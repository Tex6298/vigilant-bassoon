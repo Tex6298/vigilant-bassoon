{
 "cells": [
  {
   "cell_type": "markdown",
   "metadata": {},
   "source": [
    "# Efficient vector similarity search "
   ]
  },
  {
   "cell_type": "markdown",
   "metadata": {},
   "source": [
    "### Enhancing search results with vector embeddings and Redis"
   ]
  },
  {
   "cell_type": "markdown",
   "metadata": {},
   "source": [
    "Import the necessary libraries \n",
    "\n",
    "Define a color class for later use:\n"
   ]
  },
  {
   "cell_type": "code",
   "execution_count": 1,
   "metadata": {},
   "outputs": [],
   "source": [
    "import random\n",
    "import numpy as np\n",
    "import pandas as pd\n",
    "import time\n",
    "from redis import Redis\n",
    "from redis.commands.search.field import VectorField\n",
    "from redis.commands.search.field import TextField\n",
    "from redis.commands.search.field import TagField\n",
    "from redis.commands.search.query import Query\n",
    "from redis.commands.search.result import Result\n",
    "\n",
    "class color:\n",
    "   PURPLE = '\\033[95m'\n",
    "   CYAN = '\\033[96m'\n",
    "   DARKCYAN = '\\033[36m'\n",
    "   BLUE = '\\033[94m'\n",
    "   GREEN = '\\033[92m'\n",
    "   YELLOW = '\\033[93m'\n",
    "   RED = '\\033[91m'\n",
    "   BOLD = '\\033[1m'\n",
    "   UNDERLINE = '\\033[4m'\n",
    "   END = '\\033[0m'"
   ]
  },
  {
   "cell_type": "code",
   "execution_count": 5,
   "metadata": {},
   "outputs": [],
   "source": [
    "all_columns_df = pd.read_csv(\"data/translated.csv\")\n",
    "all_columns_df.reset_index(drop=True, inplace=True)   "
   ]
  },
  {
   "cell_type": "code",
   "execution_count": 2,
   "metadata": {},
   "outputs": [],
   "source": [
    "import openai\n",
    "\n",
    "api_key = \"API_KEY\"\n",
    "\n",
    "def set_openai_key(api_key):\n",
    "    openai.api_key = api_key\n",
    "\n",
    "set_openai_key(api_key)"
   ]
  },
  {
   "cell_type": "code",
   "execution_count": 3,
   "metadata": {},
   "outputs": [],
   "source": [
    "def gpt3_algorithm_v2(text):\n",
    "  # Completion function call engine: text-davinci-002\n",
    "\n",
    "    Platformresponse = openai.Completion.create(\n",
    "        engine=\"text-davinci-002\",\n",
    "        prompt=f\"Identify and list the keywords in this tweet:{text}.\",\n",
    "        temperature=0,\n",
    "        max_tokens=256,\n",
    "        top_p=1,\n",
    "        frequency_penalty=0,\n",
    "        presence_penalty=0,\n",
    "        )\n",
    "\n",
    "    return Platformresponse.choices[0].text"
   ]
  },
  {
   "cell_type": "code",
   "execution_count": 8,
   "metadata": {},
   "outputs": [
    {
     "name": "stdout",
     "output_type": "stream",
     "text": [
      "0\n",
      "100\n",
      "200\n",
      "300\n",
      "400\n",
      "500\n",
      "600\n",
      "700\n",
      "800\n",
      "900\n"
     ]
    }
   ],
   "source": [
    "#Loop through dataframe\n",
    "for index, row in all_columns_df.iterrows():\n",
    "    #extract column to be translated\n",
    "    text_to_translate = all_columns_df.loc[index, 'translated_text']\n",
    "    #translate using OpenAI API\n",
    "    translated_text = gpt3_algorithm_v2(text_to_translate)\n",
    "    #add translated text to new column\n",
    "    all_columns_df.at[index, 'keywords'] = translated_text\n",
    "    if index % 100 == 0:\n",
    "        print(index)\n",
    "#return dataframe with original and translated columns\n",
    "    all_columns_df = all_columns_df"
   ]
  },
  {
   "cell_type": "code",
   "execution_count": 7,
   "metadata": {},
   "outputs": [
    {
     "data": {
      "text/html": [
       "<div>\n",
       "<style scoped>\n",
       "    .dataframe tbody tr th:only-of-type {\n",
       "        vertical-align: middle;\n",
       "    }\n",
       "\n",
       "    .dataframe tbody tr th {\n",
       "        vertical-align: top;\n",
       "    }\n",
       "\n",
       "    .dataframe thead th {\n",
       "        text-align: right;\n",
       "    }\n",
       "</style>\n",
       "<table border=\"1\" class=\"dataframe\">\n",
       "  <thead>\n",
       "    <tr style=\"text-align: right;\">\n",
       "      <th></th>\n",
       "      <th>conversation_id</th>\n",
       "      <th>created_at</th>\n",
       "      <th>favorite_count</th>\n",
       "      <th>full_text</th>\n",
       "      <th>hashtags/0</th>\n",
       "      <th>hashtags/1</th>\n",
       "      <th>hashtags/2</th>\n",
       "      <th>hashtags/3</th>\n",
       "      <th>hashtags/4</th>\n",
       "      <th>hashtags/5</th>\n",
       "      <th>...</th>\n",
       "      <th>user_mentions/27/screen_name</th>\n",
       "      <th>user_mentions/28/id_str</th>\n",
       "      <th>user_mentions/28/name</th>\n",
       "      <th>user_mentions/28/screen_name</th>\n",
       "      <th>user_mentions/29/id_str</th>\n",
       "      <th>user_mentions/29/name</th>\n",
       "      <th>user_mentions/29/screen_name</th>\n",
       "      <th>primary_key</th>\n",
       "      <th>translated_text</th>\n",
       "      <th>keywords</th>\n",
       "    </tr>\n",
       "  </thead>\n",
       "  <tbody>\n",
       "    <tr>\n",
       "      <th>0</th>\n",
       "      <td>1639413359123505152</td>\n",
       "      <td>2023-03-24T23:46:18.000Z</td>\n",
       "      <td>1</td>\n",
       "      <td>Voilà pourquoi ils nous polluent cet espace, a...</td>\n",
       "      <td>RwandaIsKilling</td>\n",
       "      <td>Nek</td>\n",
       "      <td>NaN</td>\n",
       "      <td>NaN</td>\n",
       "      <td>NaN</td>\n",
       "      <td>NaN</td>\n",
       "      <td>...</td>\n",
       "      <td>NaN</td>\n",
       "      <td>NaN</td>\n",
       "      <td>NaN</td>\n",
       "      <td>NaN</td>\n",
       "      <td>NaN</td>\n",
       "      <td>NaN</td>\n",
       "      <td>NaN</td>\n",
       "      <td>2023-03-24T23:46:18.000Z-This is why they poll...</td>\n",
       "      <td>This is why they pollute this space with their...</td>\n",
       "      <td>\\n\\nRwanda, pollute, space, nonsense, analyses</td>\n",
       "    </tr>\n",
       "    <tr>\n",
       "      <th>1</th>\n",
       "      <td>1537820130230534152</td>\n",
       "      <td>2022-06-26T03:55:57.000Z</td>\n",
       "      <td>0</td>\n",
       "      <td>@kamikriss #DonotVisitRwanda #Rwandaisaterrori...</td>\n",
       "      <td>DonotVisitRwanda</td>\n",
       "      <td>Rwandaisaterroriststate</td>\n",
       "      <td>InvestigatetheDRCgenocide</td>\n",
       "      <td>OpentheDRCGenocidecourt</td>\n",
       "      <td>RwandaIsKillingInDRC</td>\n",
       "      <td>Rwandaiskilling</td>\n",
       "      <td>...</td>\n",
       "      <td>NaN</td>\n",
       "      <td>NaN</td>\n",
       "      <td>NaN</td>\n",
       "      <td>NaN</td>\n",
       "      <td>NaN</td>\n",
       "      <td>NaN</td>\n",
       "      <td>NaN</td>\n",
       "      <td>2022-06-26T03:55:57.000Z-Do not visit Rwanda. ...</td>\n",
       "      <td>Do not visit Rwanda. Rwanda is a terrorist sta...</td>\n",
       "      <td>\\n\\nDo not visit Rwanda. Rwanda is a terrorist...</td>\n",
       "    </tr>\n",
       "    <tr>\n",
       "      <th>2</th>\n",
       "      <td>1628392315747270658</td>\n",
       "      <td>2023-02-22T13:52:36.000Z</td>\n",
       "      <td>2</td>\n",
       "      <td>N'OUBLIE PAS, LE #Rwanda TUE EN #RDCongo \\nDon...</td>\n",
       "      <td>Rwanda</td>\n",
       "      <td>RDCongo</td>\n",
       "      <td>Rwanda</td>\n",
       "      <td>DRC</td>\n",
       "      <td>RwandaIsKillingInDRC</td>\n",
       "      <td>KagameMurderer</td>\n",
       "      <td>...</td>\n",
       "      <td>NaN</td>\n",
       "      <td>NaN</td>\n",
       "      <td>NaN</td>\n",
       "      <td>NaN</td>\n",
       "      <td>NaN</td>\n",
       "      <td>NaN</td>\n",
       "      <td>NaN</td>\n",
       "      <td>2023-02-22T13:52:36.000Z-Don't forget, #Rwanda...</td>\n",
       "      <td>Don't forget, #Rwanda is killing in the #DRC.\\...</td>\n",
       "      <td>\\n\\n#Rwanda, #DRC, #RwandaIsKillingInDRC, #Kag...</td>\n",
       "    </tr>\n",
       "    <tr>\n",
       "      <th>3</th>\n",
       "      <td>1538788031687274498</td>\n",
       "      <td>2022-06-22T18:25:42.000Z</td>\n",
       "      <td>1</td>\n",
       "      <td>@Claudbam @Kazungukirimvi @CSitault @RDBrwanda...</td>\n",
       "      <td>DonotVisitRwanda</td>\n",
       "      <td>Rwandaisaterroriststate</td>\n",
       "      <td>InvestigatetheDRCgenocide</td>\n",
       "      <td>OpentheDRCGenocidecourt</td>\n",
       "      <td>RwandaIsKillingInDRC</td>\n",
       "      <td>Rwandaiskilling</td>\n",
       "      <td>...</td>\n",
       "      <td>NaN</td>\n",
       "      <td>NaN</td>\n",
       "      <td>NaN</td>\n",
       "      <td>NaN</td>\n",
       "      <td>NaN</td>\n",
       "      <td>NaN</td>\n",
       "      <td>NaN</td>\n",
       "      <td>2022-06-22T18:25:42.000Z-@Claudbam @Kazungukir...</td>\n",
       "      <td>@Claudbam @Kazungukirimvi @CSitault @RDBrwanda...</td>\n",
       "      <td>\\n\\n@Claudbam @Kazungukirimvi @CSitault @RDBrw...</td>\n",
       "    </tr>\n",
       "    <tr>\n",
       "      <th>4</th>\n",
       "      <td>1614914990947074049</td>\n",
       "      <td>2023-01-16T09:18:32.000Z</td>\n",
       "      <td>0</td>\n",
       "      <td>#DRCAgainstPeace</td>\n",
       "      <td>DRCAgainstPeace</td>\n",
       "      <td>NaN</td>\n",
       "      <td>NaN</td>\n",
       "      <td>NaN</td>\n",
       "      <td>NaN</td>\n",
       "      <td>NaN</td>\n",
       "      <td>...</td>\n",
       "      <td>NaN</td>\n",
       "      <td>NaN</td>\n",
       "      <td>NaN</td>\n",
       "      <td>NaN</td>\n",
       "      <td>NaN</td>\n",
       "      <td>NaN</td>\n",
       "      <td>NaN</td>\n",
       "      <td>2023-01-16T09:18:32.000Z-#DRCAgainstPeace</td>\n",
       "      <td>#DRCAgainstPeace</td>\n",
       "      <td>\\n\\nDRC, peace</td>\n",
       "    </tr>\n",
       "  </tbody>\n",
       "</table>\n",
       "<p>5 rows × 398 columns</p>\n",
       "</div>"
      ],
      "text/plain": [
       "       conversation_id                created_at  favorite_count  \\\n",
       "0  1639413359123505152  2023-03-24T23:46:18.000Z               1   \n",
       "1  1537820130230534152  2022-06-26T03:55:57.000Z               0   \n",
       "2  1628392315747270658  2023-02-22T13:52:36.000Z               2   \n",
       "3  1538788031687274498  2022-06-22T18:25:42.000Z               1   \n",
       "4  1614914990947074049  2023-01-16T09:18:32.000Z               0   \n",
       "\n",
       "                                           full_text        hashtags/0  \\\n",
       "0  Voilà pourquoi ils nous polluent cet espace, a...   RwandaIsKilling   \n",
       "1  @kamikriss #DonotVisitRwanda #Rwandaisaterrori...  DonotVisitRwanda   \n",
       "2  N'OUBLIE PAS, LE #Rwanda TUE EN #RDCongo \\nDon...            Rwanda   \n",
       "3  @Claudbam @Kazungukirimvi @CSitault @RDBrwanda...  DonotVisitRwanda   \n",
       "4                                   #DRCAgainstPeace   DRCAgainstPeace   \n",
       "\n",
       "                hashtags/1                 hashtags/2  \\\n",
       "0                      Nek                        NaN   \n",
       "1  Rwandaisaterroriststate  InvestigatetheDRCgenocide   \n",
       "2                  RDCongo                     Rwanda   \n",
       "3  Rwandaisaterroriststate  InvestigatetheDRCgenocide   \n",
       "4                      NaN                        NaN   \n",
       "\n",
       "                hashtags/3            hashtags/4       hashtags/5  ...  \\\n",
       "0                      NaN                   NaN              NaN  ...   \n",
       "1  OpentheDRCGenocidecourt  RwandaIsKillingInDRC  Rwandaiskilling  ...   \n",
       "2                      DRC  RwandaIsKillingInDRC   KagameMurderer  ...   \n",
       "3  OpentheDRCGenocidecourt  RwandaIsKillingInDRC  Rwandaiskilling  ...   \n",
       "4                      NaN                   NaN              NaN  ...   \n",
       "\n",
       "  user_mentions/27/screen_name user_mentions/28/id_str user_mentions/28/name  \\\n",
       "0                          NaN                     NaN                   NaN   \n",
       "1                          NaN                     NaN                   NaN   \n",
       "2                          NaN                     NaN                   NaN   \n",
       "3                          NaN                     NaN                   NaN   \n",
       "4                          NaN                     NaN                   NaN   \n",
       "\n",
       "   user_mentions/28/screen_name  user_mentions/29/id_str  \\\n",
       "0                           NaN                      NaN   \n",
       "1                           NaN                      NaN   \n",
       "2                           NaN                      NaN   \n",
       "3                           NaN                      NaN   \n",
       "4                           NaN                      NaN   \n",
       "\n",
       "  user_mentions/29/name user_mentions/29/screen_name  \\\n",
       "0                   NaN                          NaN   \n",
       "1                   NaN                          NaN   \n",
       "2                   NaN                          NaN   \n",
       "3                   NaN                          NaN   \n",
       "4                   NaN                          NaN   \n",
       "\n",
       "                                         primary_key  \\\n",
       "0  2023-03-24T23:46:18.000Z-This is why they poll...   \n",
       "1  2022-06-26T03:55:57.000Z-Do not visit Rwanda. ...   \n",
       "2  2023-02-22T13:52:36.000Z-Don't forget, #Rwanda...   \n",
       "3  2022-06-22T18:25:42.000Z-@Claudbam @Kazungukir...   \n",
       "4          2023-01-16T09:18:32.000Z-#DRCAgainstPeace   \n",
       "\n",
       "                                     translated_text  \\\n",
       "0  This is why they pollute this space with their...   \n",
       "1  Do not visit Rwanda. Rwanda is a terrorist sta...   \n",
       "2  Don't forget, #Rwanda is killing in the #DRC.\\...   \n",
       "3  @Claudbam @Kazungukirimvi @CSitault @RDBrwanda...   \n",
       "4                                   #DRCAgainstPeace   \n",
       "\n",
       "                                            keywords  \n",
       "0     \\n\\nRwanda, pollute, space, nonsense, analyses  \n",
       "1  \\n\\nDo not visit Rwanda. Rwanda is a terrorist...  \n",
       "2  \\n\\n#Rwanda, #DRC, #RwandaIsKillingInDRC, #Kag...  \n",
       "3  \\n\\n@Claudbam @Kazungukirimvi @CSitault @RDBrw...  \n",
       "4                                     \\n\\nDRC, peace  \n",
       "\n",
       "[5 rows x 398 columns]"
      ]
     },
     "execution_count": 7,
     "metadata": {},
     "output_type": "execute_result"
    }
   ],
   "source": [
    "all_columns_df.head()"
   ]
  },
  {
   "cell_type": "code",
   "execution_count": 32,
   "metadata": {},
   "outputs": [],
   "source": [
    "all_columns_df['keywords'] = all_columns_df['keywords'].str.replace('/n/n', '')"
   ]
  },
  {
   "cell_type": "code",
   "execution_count": 335,
   "metadata": {},
   "outputs": [],
   "source": [
    "all_columns_df = pd.read_csv(\"data/translated.csv\")\n",
    "all_columns_df.reset_index(drop=True, inplace=True)   \n",
    "# all_columns_df.to_csv('data/translated.csv', index=False)"
   ]
  },
  {
   "cell_type": "code",
   "execution_count": 190,
   "metadata": {},
   "outputs": [],
   "source": [
    "# for i in all_columns_df:\n",
    "#     all_columns_df[i] = all_columns_df[i].astype(str)\n",
    "all_columns_df.replace(np.nan, '',inplace=True)"
   ]
  },
  {
   "cell_type": "code",
   "execution_count": 336,
   "metadata": {},
   "outputs": [],
   "source": [
    "all_columns_df = all_columns_df[['conversation_id', 'favorite_count', 'full_text', 'is_quote_tweet', 'is_retweet', 'primary_key', 'keywords']]\n",
    "all_columns_df = all_columns_df.astype(str)"
   ]
  },
  {
   "cell_type": "code",
   "execution_count": 337,
   "metadata": {},
   "outputs": [],
   "source": [
    "all_columns_df[['is_quote_tweet', 'is_retweet']] = all_columns_df[['is_quote_tweet', 'is_retweet']].replace('True', 'Yes')\n",
    "all_columns_df[['is_quote_tweet', 'is_retweet']] = all_columns_df[['is_quote_tweet', 'is_retweet']].replace('False', 'No')\n",
    "all_columns_df[['is_quote_tweet', 'is_retweet']] = all_columns_df[['is_quote_tweet', 'is_retweet']].replace('nan', 'No')"
   ]
  },
  {
   "cell_type": "code",
   "execution_count": 338,
   "metadata": {},
   "outputs": [
    {
     "data": {
      "text/html": [
       "<div>\n",
       "<style scoped>\n",
       "    .dataframe tbody tr th:only-of-type {\n",
       "        vertical-align: middle;\n",
       "    }\n",
       "\n",
       "    .dataframe tbody tr th {\n",
       "        vertical-align: top;\n",
       "    }\n",
       "\n",
       "    .dataframe thead th {\n",
       "        text-align: right;\n",
       "    }\n",
       "</style>\n",
       "<table border=\"1\" class=\"dataframe\">\n",
       "  <thead>\n",
       "    <tr style=\"text-align: right;\">\n",
       "      <th></th>\n",
       "      <th>is_quote_tweet</th>\n",
       "      <th>is_retweet</th>\n",
       "    </tr>\n",
       "  </thead>\n",
       "  <tbody>\n",
       "    <tr>\n",
       "      <th>0</th>\n",
       "      <td>Yes</td>\n",
       "      <td>No</td>\n",
       "    </tr>\n",
       "    <tr>\n",
       "      <th>1</th>\n",
       "      <td>No</td>\n",
       "      <td>No</td>\n",
       "    </tr>\n",
       "    <tr>\n",
       "      <th>2</th>\n",
       "      <td>Yes</td>\n",
       "      <td>No</td>\n",
       "    </tr>\n",
       "    <tr>\n",
       "      <th>3</th>\n",
       "      <td>No</td>\n",
       "      <td>No</td>\n",
       "    </tr>\n",
       "    <tr>\n",
       "      <th>4</th>\n",
       "      <td>Yes</td>\n",
       "      <td>No</td>\n",
       "    </tr>\n",
       "  </tbody>\n",
       "</table>\n",
       "</div>"
      ],
      "text/plain": [
       "  is_quote_tweet is_retweet\n",
       "0            Yes         No\n",
       "1             No         No\n",
       "2            Yes         No\n",
       "3             No         No\n",
       "4            Yes         No"
      ]
     },
     "execution_count": 338,
     "metadata": {},
     "output_type": "execute_result"
    }
   ],
   "source": [
    "all_columns_df[['is_quote_tweet', 'is_retweet']].head()"
   ]
  },
  {
   "cell_type": "code",
   "execution_count": 339,
   "metadata": {},
   "outputs": [],
   "source": [
    "tweet_metadata = all_columns_df.to_dict(orient='index')\n",
    "#str(tweet_metadata)"
   ]
  },
  {
   "cell_type": "markdown",
   "metadata": {},
   "source": []
  },
  {
   "cell_type": "code",
   "execution_count": 70,
   "metadata": {},
   "outputs": [
    {
     "name": "stdout",
     "output_type": "stream",
     "text": [
      "Connected to redis\n"
     ]
    }
   ],
   "source": [
    "redis_conn = Redis(\n",
    "      host=os.environ[\"REDIS_HOST\"],\n",
    "      port=os.environ[\"REDIS_PORT\"],\n",
    "      password=os.environ[\"REDIS_PASSWORD\"]))\n",
    "redis_conn\n",
    "print ('Connected to redis')"
   ]
  },
  {
   "cell_type": "markdown",
   "metadata": {},
   "source": [
    "SentenceTransformer\n",
    "\n",
    " a pre-trained Sentence Transformer model called distilroberta-v1"
   ]
  },
  {
   "cell_type": "code",
   "execution_count": 385,
   "metadata": {},
   "outputs": [],
   "source": [
    "from sentence_transformers import SentenceTransformer\n",
    "model = SentenceTransformer('sentence-transformers/all-distilroberta-v1')"
   ]
  },
  {
   "cell_type": "code",
   "execution_count": 386,
   "metadata": {},
   "outputs": [
    {
     "name": "stdout",
     "output_type": "stream",
     "text": [
      "CPU times: total: 17 s\n",
      "Wall time: 22.7 s\n"
     ]
    }
   ],
   "source": [
    "%%time\n",
    "\n",
    "keywords =  [tweet_metadata[i]['keywords']  for i in tweet_metadata.keys()]\n",
    "keywords_vectors = [ model.encode(sentence) for sentence in keywords]"
   ]
  },
  {
   "cell_type": "markdown",
   "metadata": {},
   "source": [
    "Check the dimensions of the embeddings"
   ]
  },
  {
   "cell_type": "code",
   "execution_count": 358,
   "metadata": {},
   "outputs": [
    {
     "data": {
      "text/plain": [
       "{b'conversation_id': b'1618691899258445825',\n",
       " b'favorite_count': b'0',\n",
       " b'is_retweet': b'No',\n",
       " b'keyword_vector': b'\\xc8\\xaf^\\xbdk_\\r\\xbc\\x90z\\x16=U\\x95s<\\x87\\x1f\\xad\\xbc\\x05\\x1d\\xfd;\\xa9\\xfe1\\xbb|=\\x8a=Q\\x17\\x0c<4\\xe9\\x92\\xbboc\\xff\\xbc.\\xb8d=\\xfaQ\\xcb\\xbc[o\\xe2\\xbcY\\xd7\\x1c;\\x9ek\\x8f;#9\\x8d=\\xe16\\x07=w\\xac\\xa7\\xbb\\x16\\xc4\\xe1;\\xfb\\xe0\\x00\\xbd/?R\\xbc\\xe8Q%\\xbdD\\x0c@\\xbdFAu\\xbd\\x0b\\xf9\\xb0\\xbb\\x13\\x91-\\xbd\\xba\"?\\xbc\\xb8s\\xd2\\xbd\\xf6\\xce\\xdd</T!<\\x88F\\xcb;*\\xb1\\xcb<\\xb1P5\\xbc\\xb7\\\\\\x9b<\\xdd\\x9ek\\xba\\x12\\x95\\xc0\\xbc\\x0c)\\x80\\xbb\\t\\xf2-;\\x8d\\xd2\\x80<:n\\x01\\xbd\\xd4-N<\\xeep\\xd4\\xbcS\\'K=\\xbb\\xeb\\xda\\xbc\\xa9m+=EV\\xa5\\xbd\\x82\\xa6d\\xbde\\xa4\\x86\\xbc#\\xb6\\x01\\xbd\\xb2$\\xe1<\\xc4\\xff\":\\xe5\\x8c\\x10\\xbd\\x8a\\x866\\xbd\\xafv\\x99=I(b=\\x16&+<90\\x01<\\x84\\xc5G\\xbb\\xb0\\xdc\\x1f=(\\xff@=,\\xd4\\xfa\\xbc\\x14%\\x85\\xbd_m\\x0e\\xbd\\xd8\\xc0\\xc2\\xbaZud=\\xa6(\\xa2\\xbc\\xa8\\x19\\xb1<?\\x88i<:V\\xb1\\xbb!I@\\xbd2)Z\\xbb`\\x00V=\\x1am:\\xbdD!\\xe1\\xbaL-k<\\xb8\\xa0w\\xbd\\xa2\\xb42\\xbdr\\xf8H\\xbd\\x87\\xe9\\x00\\xbc\\n\\xaf\\x8d\\xba\\x1a\\xf6<=|\\xc1\\x16=\\x19de\\xbd\\x97z\\xac=\\xdf\\x08\\xa1=\\xfe\\xbc\\x13=\\xc5\\x01\\x97\\xbd\\xb6\\x9f\\xb0\\xbc\\xe8\\xe3\\x84\\xbb\\xa1\\xb9\\xa8\\xbc\\'\\xa3\\xc9<\\xa3[\\x83=n\\xf1\\xe1<\\xb4_\\xf7<DK\\xf3\\xbcw\\x17\\xbc\\xbb\\xbf}\\x86=\\x1br|=4\\t\\xb8<\\x94%&;\\xf5\\rU=\\xb9\\xdb\\x94=\\x10\\x05\\x8a\\xbbs\\xe2\\xd7\\xbc\\xaf_\\x8c<+\\x9f \\xbd\\xa7\\xe3B\\xbd\\xb3\\x8e\\xa6<\\xc7\\xdfe:\\xb9\\xf4\\xf9\\xbc\\n\\xd3\\xa7;;\\xda\\x0f=\\xbeN\\x02<\\xf5(\\x01\\xbdll\\xb7<$V\\x94\\xbcII\\x1d\\xbd\\xea\\xca\\x98;mE\\xfc\\xbc5\\xe7\\xef\\xbc2\\xb8\\xaf\\xbc\\xa4\\xa0v;\\x14\\x8a\\xd5\\xbc-=\\xa8<\\xe6\\x1c\\xf1<\\xfd<\\x98<\\xa1\\xff$\\xbc\\xf4\\xbe\\x81<W\\t\\x9f\\xb6\\xe8+\\n\\xbc2\\x88\\x1a\\xbd\\x1e\\xd2\\xa6;\\x14/\\x05\\xbd\\x15\\x82\\xd8<IL\\xe0;\\xa2\\xddb;v\\xa0\\n=\\x1aS>\\xbcy%<=\\xa6\\xd3 \\xbd\\x80k\\xad<:\\xb2f\\xbd\\x8cf^<\\xbah\\xd0;\\xc4\\xea\\x1e=\\x9c\\xfc\\xc6<S\\xca;\\xba\\xf7\\xe3&:\\x9f32\\xbcq\\xfe\\x1c=D\\xc3$\\xbcqv\\x13=z\\x94q\\xbd\\x15\\x9a\\x0b\\xbd\\xbf\\x9e\\'=\\n\\x0e~<\\xba\\xe7\\x98\\xbd7\\x90\\xbb<\\xa0t\\x06\\xbdS\\x7f\\xe7\\xbbV\\xa1\\xef<\\x9d\\xfa\\x01={\\xf8\\xb8<\\xce\\x8c\\x04=\\x06\\xfb\\xe0\\xbc\\xb8\\x1f\\x99\\xbd|\\xe1\\x92<\\x18\\xc7\\x08\\xbc\\x8dn\\xdd<\\xa1\\x99\\n\\xbdx\\x7f-;\\x03\\x83:\\xbd\\xdfBF\\xbcU\\xb4T\\xbc\\xb6zL\\xbdV\\xfa\\x85\\xbc\\xddt\\x0e\\xbd\\xe8\\xf3\\x98=2.;<\\xab~\\x1c<\\xda\\x99C=\\xa0\\xde\\x10\\xbd&Xa=\\x9a8\\x17<\\xc44\\x91\\xbb\\xd1\\x9d%\\xbc\\xd9\\xd2\\x86<d\\x05\\x19\\xbao\\xdb)\\xbd\\xce\\x83\\x82=\\xa4\\xb1\\r=\\xd4\\xb4\\x18=C\\x1c&\\xbd\\x02\\x81L\\xbd\\xc0\\xbd\\xc6<L\\x8b\\n=\\x94\\xdf\\xb5\\xbc\\xe7\\xac\\xa9\\xba\\x98{\\x87\\xbc\\x18\\xda\\x10\\xbd\\xed\\xef&\\xbd\\xd1\\xfb\\xe5\\xbcG=X\\xbc\\xb5\\x0f\\xb3<\\x8e\\xd8\\t:/N\\xcd\\xbcBa\\x9f<\\xc8\\xc8D\\xbd0\\xbc\\xf5<a\\x8e\\x8e<\\xf0\\xd3x\\xbd\\xc9\\x9c\\x7f=l\\x93\\x0f\\xbd\\xf8\\x0f\\xcd\\xbb\\xca\\xb6f<\\xd4s\\xaa=-\\x85f\\xbd\\xaex\\x16\\xbd\\xd8\\xb7\\x0e\\xbdT\\x1d\\xd1\\xbc\\n\\xaa\\x9a\\xbdR\\xf6\\x8f<\\x17n\\x07\\xbc\\xcb,{\\xbd-\\xb6\\xda\\xbcl\\xe2\\x1f;H\\xa3\\x97<e`\\x1d\\xbd\\xa1\\x82w<O\\xdb\\xb1\\xbcd\\xca \\xbd\\xceC\\n=\\xe3\\xbb\\x05\\xbd\\xfa\\xcdd;y\\xa7{\\xbcMA\\x13\\xbb\\xf8\\xc1[<\\xdd\\xd1\\x8c:\\x94\\xc33\\xbd\\xfb\\x95I=\\xb9\\x84\\xef\\xbb\\x1a\\xcd\\xa6\\xbcc\\xb7n<\\xca\\xe2\\xe7:Y\\xe2\\x02\\xbd^Y\\xac<J\\xe4\\xc9<a\\x02V<\\x89\\xeb\\xa8=\\xf9\\xfav=\\xdcC\\x92\\xbd\\x80\\x90J\\xbc)d\\xc5\\xbc\\x0f\\xcd\\xe5<B\\xfc\\xc7<\\xf6\\x04D=\\xca;i<\\xb7\\x1c\\xd9\\xb9\\xdc,\\x97=\\xb8-\\x9c\\xbc\\xdb\\xa24\\xbc\\x01\\x80\\xa8<5\\nM=K\\x19\\xdb\\xbbegd=\\xb8\\xc2\\x82<M\\xbc!\\xbb\\xb1\\xe5\\x17\\xbb>\\xf7#\\xbc\\x83=\\n\\xbd\\xc6_2;0\\xd4\\x8d\\xbd\\'\\xb3\\x06\\xbc\\xebJ\\x88\\xbd\\xbeya<\\x97\\x9bI=~\\x039\\xbc\\xa6\\xe1];X\\xae\\xe6\\xbcq=x=\\x13\\xfa\\xfc\\xbb[\\x8cH\\xbd\\xe8\\x1df\\xbdE\\xdcZ\\xbdt\\x05a\\xbd\\xcb\\xb0G\\xbdw<v\\xbd\\xf0A\\x05<l\\x11S\\xbd\\x1d\\xbd\\x92<p\\x16\\xf0\\xbc?c&\\xbd\\xc3\\xdd\\x17=\\x97\\xb5\\x18=\"Nb\\xbd\\xb8\\xf1\\x86\\xba\\x9f\\xe4\\xc1\\xbcO\\x8f\\xd1\\xbc\\x7f\\xca\\xe5\\xbc\\x99\\xff\\x88:\\x92<\\xd9\\xbc\\x94\"c=\\xf9Q\\x94\\xbc\\xe8\\x11+\\xbds\\x90\\r\\xbc\\xfb\\x04C=G\\xbf\\x16\\xbd(\\x1a\\x1e:\\x16\\x9e\\xb7\\xbc\\xe6~\\x03=\\xf7\\xaa\\xf8;&\\xe3\\xb9<\\x97$t\\xbc\\x98b\\xa8;$RP<0\\xbd\\xb8\\xbcA\\xe8\\xb7\\xbc\\x1a{\\xc4\\xbc\\xd14\\xc7=\\x04\\xd7\\xdc\\xbcgNk\\xbd\\x02\\x9a\\x8e=\\x9e\\x9a\\x8d\\xbdjCV\\xbdc\\xdb\\xb7<\\xe8\\xab\\x03\\xbd\\x0cL\\xb8\\xbcI\\xea\\x8c\\xbc\\xb5\\x96z<\\x00\\x90h=|&\\xa3\\xbd\\xb1\\xe5\\xca;\\xf2\\x00\\xeb<\\xaf\\xce+=\\xba\\xf5*<\\x80oP\\xbc\\x9a\\x94\\xda;\\xa6\\x90\\xc4<\\x05\\xd9\\xa6\\xbdW\\xfd\\xfa<\\x96\\xed\\xc0\\xbc)\\xe5q:\\xa1\\xd7[\\xbd\\x19\\x0f\\xde\\xbc\\x92\\x7f\\xae\\xbdbO6<N\\xc5\\t=\\xf7Xe=\\x19\\x82\\x96\\xbc\\x086\\xdb<g/\\x97\\xb9wX-\\xbd\\xd0\\xe9\\x13\\xbc^xr\\xbc\\x81B\\x84\\xbc9\\xe5m\\xbc\\x1d\\x1f\\x96:A\\xcb\\xbe\\xbc0\\xbb\\x1b<\\xdf\\xb7\\xcd\\xbc\\x9e\\xfc\\x03\\xbd\\xabu\\xee<\\x8a\\xa0U\\xbd\\n\\x07\\xf6;\\xe8\\x9b\\x1b\\xbd\\xcf\\x89^\\xbdP\\xf5\\xfa\\xbc\\xcc\\x84\\x07\\xbdi\\xcb\\xde<4\\xcfd=\\x9f\\x95\\x00\\xbc2\\xafL<\\x13\\r\\xdf\\xbb1\\x14F=\\xcb\\x1b5=\\x00-_\\xbd\\xe5\\tl\\xbc^Yn\\xbb\\x92\\x16\\x81\\xbcH\\xec\\x03\\xbd\\x89\\xd7\\xf8\\xbc(\\x1dE\\xbc/\\x99\\xbc;\\xbb\\x8b\\x93<\\xb7\\xd5\\xee\\xbd[2(==dt\\xbc\\xc0\\xe6\\x7f<\\x84\\xf2c<8\\xb7\\x99=\\xa5\\r\\xda<U\\x92W<\\x13\\xdd\\x84<`\\xa0o<\\x11\\x81T=F\\xe9\\x0e\\xbdg\\x89>=Z\\xdc4=\\xe4M\\x96\\xbch4\\xa7<Y`Z\\xbd\\x1c\\x11n<$\\xcd\\x7f\\xbc\\xfb0\\xbf\\xbc\\x90\\xb1\\x82=yN\\x16\\xbd\\xcd\\x8d\\x15<\\x8d\\xa2\\xe4\\xbc\\x99XG\\xbc[?\\x1c\\xbd6R\\xf9<<A\\xa1<$-?\\xbd\\t\\x11\\xeb\\xba\\x95J\\x94=2\\x96\\x96=\\xe9z\\xab=\\x06\\xbed\\xbaa\\xaa9\\xbdf\\xba\\x9b\\xbc9\\xe7\\x07\\xbc\\x16\\xe7\\x8f\\xbc\\xad\\xd3\\xcb\\xbd\\xb0r\\xb6;*2\\xbf<\\xef\\x80\\x02=\\x96\\xe7\\x99=^\\xb29\\xbc\\x8b\\x85y;]\\xfc\\xc8<\\xd9[\\x88\\xbc\\xf2\\xdc\\xc4\\xbcm35=\\xe0\\xe8\\xdd\\xbc\\xc1y\\xca\\xbb\\xae\\x15\\xa3\\xbc\\xa7\\x13!\\xbc\\x85\\xbc;=\\x14\\xda\\x9c\\xbc\\xb9\\xe1\\xa3\\xbc\\xf6\\xb9-<okw<\\xcc\\xeb\\xbe=\\xaa\\x0f\\x1a=O\\x1b\\x85<;\\xee\\xad=r\\xeb\\x80<\\xbf\\xba1<\\xa2\\x08\\xe2<\\xcbZ\\t\\xbd\\\\ \\x18\\xbc\\xa6\\x1a\\xca\\xbc\\xe8\\x94G\\xbd\\xef\\xe4\\xde;\\xf9\\xcf\\xc4\\xbch4\\xe2<D\\xb5\\xa8:\\xd6\\x91\\x15\\xbd\\xde8\\xd8<\\x86#\\xd5;\\xc6m2=\\x9a\\xe4~\\xbdB\\xeb\\x81<\\t(;\\xbb\\xb3.\\x85\\xbc\\x84\\x14\\x1a<^\\xec\\xcb;.\\n\\x85;\\xf9\\xb9\\xbb<\\xae\\xf9\\xbb\\xb9U\\x15\\x99:E|\\xbc<\\x1efG;jr\\x1b=\\xf5\\xeb\\xcb:\\n\\xc2\\x17=I\\xc1N\\xbcr\\xbb\\xf9;\\x93\\xe1N\\xbc\\x93?\\x9f\\xbc\\xaaQ\\x05\\xbd\\x96\\x03!\\xbc\\xf3)\\xda;\\xe3q5<\\xb6\\xc2\\xa8<\\xc0\\xa3\\xbb<\\xc1\\x1b\\xa1\\xbcs\\xe3\\xcb\\xbc,\\xccd\\xbd)s=<\\xfe\\x0f\\xde<#0\\xf4<V\\x16\\x1d=$o)\\tN\\x00+\\xbc\\x88\\xbeX8\\x14\\xf4\\xc7=c\\x86M=\\x97\\xc5\\\\\\xbc\\xc80\\'\\xbd\\x9b\\xda\\xd3\\xbbh2M=\\xc3cA\\xbc\\xbb\\x83\\xb8<\\xd4qH\\xbd\\xf8\\x1cY<\\xacF\\x8d<\\xa5\\xb2_\\xbd\\xe1\\x87\\xf9<]H==$\\x1d\\xe9\\xbc\\x15\\xcc\\x06\\xbd\\xcf|\\xdb;\\x84O\\x1d=\\xa9G\\x1f\\xbd\\x98{P=\\xe4?\\xec\\xbc\\n\\x19\\x14\\xbd\\x95\\xbf\\x06\\xbd\\x03iG\\xbdm\\xe4\\x01\\xbd\\xad@)<\\x90\\xce.=\\xa8\\xa48;\\xa3d~<\\xba\\'\\x85=\\xcf\\xd3\\xe3\\xbc}\\xbf\\x9a\\xbcc\\xa9\\xd4\\xbc\\xcd\\xc06<\\xde\\x86H=\\x9b%\\xdc\\xbb\\xa5/\\xb1\\xbch\\xb7\\x80\\xbc\\xb8\\x16\\xf8;\\xfcx\\x17\\xbd\\xa0N\\xa5;\\xe7\\xcb\\xcd\\xbd\\'\\xc7\\xc0\\xbb\\x8c7/\\xbd\\x1f\\x0eZ=\\xa2\\xfc\\xd4;m \\xa9\\xbc9y\\x86;\\x88y\\xf7\\xbc\\xe7U\\xbd<\\x9b\\xda\\x85\\xbc\\x86\\xf0\\xd1<\\x9c\\xcb,\\xbdY\\x97\\x12<=\\x02\\x18\\xbd\\x99\\xc6\\xb7\\xbb\\xf4\\x86\\x0c\\xbc\\xf2\\xd7 <i\\xa9\\xa4<T\\xe4>;\\x9d\\x16\\xab<\\r\\x0b\\x81\\xbc\\x82\\xbd\\x11>l\\xf6\\xef\\xbc\\x1e\\xe0t\\xbd\\x9a\\xe8\\xdd<\\x93\\x16\\x1c\\xbd\\x0e\\xf7\\xcf<\\xf5\\xcfR=%\\x00\\x97\\xbb\\xef(\\xab\\xbbE\\xd7\\xdb\\xbc\\xc5\\x8cs;\\x15S|\\xbc\\x0f\\x99@:\\xeb\\x7f\\xa4;\\xa8\\x16\\n=\\x13\\xff|;\\xd4\\xf4\\xe0\\xbb\\xc4\\xc1\\x1a\\xbd1\\xb63\\xbd\\xe7b\\xf5\\xbc\\xa2\\xfb\\xb9:\\x84h\\xb6\\xbc\\x95\\xfa\\xdd\\xbb\\x10w%=\\xf1>\\x87<\\xf6t\\xb7\\xbc\\x1f\\xac\\xae=\\xd3\\xd4\\x1d;&p\\x02\\xbd\\xc6\\x1c\\x04;g\\xd6\\xfd<c\\xe7\\xc9<\\xa8\\x9d`<)S\\x04\\xbd\\xc2]\\xb0\\xbch\\xb2Y\\xbd\\xf4\\x007=\\xd9\\xbf\\x90<(\\xbf\\r=\\xdd\\xcb\\x84<\\xf9}O\\xbd\\xe1o+<\\xbc\\xd4\\xac\\xbc@\\x1c\\xf7\\xbc\\x1a\\x05\\xea<\\xf9\\xdf\\xc6;\\xd0\\x1a\\xb9<\\xe7\\xf8\\x0f<\\xde\\x98U=\\xce\\xbbv=y\\xc9\\xb1=\\xbd)\\x8d\\xbbo\\xba\\x0e=\\xdek\\xb3\\xbbY\\xe6\\xfa\\xbc\\xde8\\x0e={\\x99\\'\\xbd\\xe8\\x8cj\\xbc\\xcd\\x10\\xd9<\\xcb*\\x9b\\xbc\\x9e\\x1a\\xa6\\xbb\\xabr\\xf7<d\\x17*\\xbb\\xf5\\xb0P\\xbd\\xc76\\xdd\\xba\\xbbf\\xed=#\\xac\\xf5<,\\xc0\\n\\xbc|\\xcf\\xe1\\xbb,\\xe2\\xc8;D\\xd5\\x1a<\\x8b\\xf1\\xd3;\\x90L4=\\xa6\\xb1\\x1f\\xbd\\xfb\\x9a\\xbc\\xbc\\xc5\\x17l\\xbd\\x81?\\xf0<\\x886\\x05=\\xcf\\n\\xef;\\x9b\\xe5\\xdd<\\x12i\\xdb\\xbc\\xd2O(\\xbdV\\xb1E<ig\\x0b;.\\x995=\\xd6\\x01\\xa3=\\xb1\\xa6\\x81<\\x9eK\\x0b\\xbd\\x1f\\x9d2\\xbd\\x17\\xe9\\'<\\xf8;>\\xbd\\xa5\\xaf\\x11\\xbb\\x18\\xffi\\xbc\\xe6`\\x83\\xbd#\\xf0\\xe2;\\x12\\x99\\x12;=\\x05\\xab=\\x97U\\xff\\xbd8\\x85\\xf1<f\\xe5\\x99=or\\xf7\\xbci!\\x16=\\x1c\\xab\\xa9\\xbcU\\x81\\xc4\\xbci9\\xb8=b\\x8eq<p\\x7f\\xea\\xbc\\x8d\\xc3 =\\x0c\\xd0%\\xbd5]\\x82\\xbc<\\xa8\\'\\xbc\\xabU%\\xbd.\\x80\\x91\\xbcfp,=51\\xae\\xbdI\\xa7\\x7f=\\x0c\\xea\\xbd;\\xb4\\x1d\\xe7\\xbct\\xdf5<\\xc9&\\xf0\\xbc\\xfe1\\x19=\\x11\\x80\\x05=c\\x12\\x88<\\x02\\xc8\\x92\\xbc2\\x1c\\xf1<>\\xf8\\x1b\\xbd\\xcc\\x1f\\x98\\xbc,\\x06\\x1c\\xbc{\\x16Z=U@\\xa2<N\\x87~<\\x8e\\xdc%=\\xda\\xaa1=\\xe9RU=\\x9f\\xf1\\x82\\xbb\\xbb\\x085=\\xf5WY=\\x97\\xbc\\xb4\\xbc\\x9b\\x10h<]\\x02\\xe1\\xbc\\x1e\\xf4\\x86;\\x1ax\\x81;\\xc3Z|\\xbc\\xfa\\x9aP\\xbd\\xd5GG=\\xd1\\'\\x1a=\\x9f;.<.\\x8d\\x10<d\\xdb\\xa1\\xbcf\\xfcD<\\xc3\\x1d+<\\xf5\\xbfg\\xbc\\xe0K\\xc0\\xbb\\xfb\\xa9\\xb9\\xbbK\\xb9\\x1c\\xbd\\xce\\xe8\\xf5<$\\xc19\\xbd\\xbf\\x84\\x8e\\xbc\\xa5\\xb9c=E\\xe2&\\xbc\\xc2Za;{\\n\\x83;\\xad\\xc1\\xbc\\xbc\\xce\\xfbI<\\x01\\x83\\x88<A\\x86,\\xbb\\xa8\\\\F9\\xc3\\x04\\xa0\\xbcn\\xab\\xed\\xbc\\xea~\\xcb\\xbc\\x9f\\x93;=\\x91I\\x1f=\\x01&S<l\\x06+\\xbds)\\x9d\\xbcT\\xb2|<\\x885*\\xbcA\\x12\\x9b\\xbc\\x8fj@\\xbd__U=\\x8eS3<\\x1e\\x03\\xb0\\xba\\n}(\\xbdU\\x0f\\xf7\\xbc<\\xfa\\xbc\\xbb`\\xb9I<\\xc8\\x1c\\x84=\\x9b1\"<\\x14\\xa3s\\xbc\\x97G\\xd1=,w\\x9e\\xbd\\xb1\\x00*\\xbd\\xb7q\\x1a\\xbd\\xa5`.\\xbcw\\xfbZ=\\xc8\\x8d\\t<\\xf9\\x99F=d\\nT=\\xfc\\xe7\\x0b=G\\x86\\xff;\\x82B$\\xbdb\\xe1\\xca\\xbc\\x95r?<\\xfa\\xac,=|J.\\xbd\\xa0\\xa9\\xc6<\\xdd\\t\\xe8<\\xf3\\x95\\xee\\xbb\\x84[\\x9b<',\n",
       " b'primary_key': b'2023-01-26T19:26:37.000Z-#DRCAgainstPeace #FailedStateDRC',\n",
       " b'full_text': b'#DRCAgainstPeace #FailedStateDRC',\n",
       " b'keywords': b'DRC, Against, Peace, Failed, State',\n",
       " b'is_quote_tweet': b'Yes'}"
      ]
     },
     "execution_count": 358,
     "metadata": {},
     "output_type": "execute_result"
    }
   ],
   "source": [
    "redis_conn.hgetall('Tweet:164:DRC, Against, Peace, Failed, State')"
   ]
  },
  {
   "cell_type": "code",
   "execution_count": 42,
   "metadata": {},
   "outputs": [
    {
     "data": {
      "text/plain": [
       "1000"
      ]
     },
     "execution_count": 42,
     "metadata": {},
     "output_type": "execute_result"
    }
   ],
   "source": [
    "len(keywords_vectors)"
   ]
  },
  {
   "cell_type": "code",
   "execution_count": 45,
   "metadata": {},
   "outputs": [
    {
     "data": {
      "text/plain": [
       "399"
      ]
     },
     "execution_count": 45,
     "metadata": {},
     "output_type": "execute_result"
    }
   ],
   "source": [
    "len(tweet_metadata[0])"
   ]
  },
  {
   "cell_type": "code",
   "execution_count": 258,
   "metadata": {},
   "outputs": [
    {
     "data": {
      "text/plain": [
       "{'conversation_id': '1639413359123505152',\n",
       " 'favorite_count': '1',\n",
       " 'full_text': 'Voilà pourquoi ils nous polluent cet espace, avec des analyses à la mords-moi-le-nœud ! #RwandaIsKilling #Nek',\n",
       " 'is_quote_tweet': 'Yes',\n",
       " 'is_retweet': 'No',\n",
       " 'primary_key': '2023-03-24T23:46:18.000Z-This is why they pollute this space with their nonsense analyses! #RwandaIsKilling #Nek',\n",
       " 'keywords': 'Rwanda, pollute, space, nonsense, analyses',\n",
       " 'keyword_vector': b'7@\\xa0:\\x96\\xf9\\xbf\\xbc+|E9\\x18\"\\xdf\\xbc\\x85c\\'\\xbc\\xb3\\xfe\\xe1\\xbc\\';\\xb0\\xbc\\x05,==z\\x0f?=\\x1d\\x87?\\xbdm\\x96\\xaa\\xbd\\x85f\\'\\xbd\\x11\\'9<\\xffBo\\xbd\\xc1\\xf3\\x7f<e\\x88b\\xbd\\xbd\\x02\\xaf<|\\x9e4<[\\xe9\\x11\\xbd\\x8e\\xf7\\xb9<1q\\x08=\\xc9\\xa5\\xbf=\\xe4\\xb5\\xd6\\xbc\\xed\\xcf\\xdd\\xbc{\\xbb\\xa7=\\xdd\\xea\\xb7<X\\x04m\\xbd\\x8c\\xfcI\\xbd4@\\x81\\xbb3\\x84\\xeb\\xbcMg\\xaa<f\\x18|\\xbc\\xae9\\x10=\\r\\x15K\\xbd\\x9c\\x9c\\x89\\xbc\\xed\\x13\\x0f<59\\x15;\\x08\\xe4I\\xbd\\x8fo\\x81=\\xf8\\r\\xc8\\xbc\\x8d\\x83\\xb9=\\xfe\\xd2\\x16=\\x150\\x04\\xbcs\\x84\\xd9<\\x0c\\xe3\\xc2<\\xf9+\\xe2\\xbb\\xa2/\\xa1\\xbcq\\xc6N\\xbd\\x06\\r,={\\x1bS<\\xae\\'\\x19\\xbc\\x0c\\xaa\\x8e<\\xb0_\\xc8\\xbc\\xb2\\x93p<\\xda\\x87\\xe7<\\xb7\\xb8\\xf0\\xbc\\xf6\\x91v\\xbc/UH\\xbc t\\xb4\\xbc\\xbe\\xd8\\x90<d\\xb5\\xe1<A3\\x10<\\x88*}=)\\xb9x:\\xa2\\xbaW<y\\x16\\xf3;#\\x84\\xca<\\xed\\xf8\\xae=\\\\819\\xd4\\xe7\\x89<A.|\\xbd\\xb0\\xeb4=\\x03U\\xcc\\xbc#t\\xa0\\xbc\\x8aW\\x0c\\xbd\\xa2\\x85\\x92\\xbc\\xbb_\\xcc<;S\\xb1\\xbdw\\xf3\\xd4\\xbb\\xdf\\xb74:\\xba\\x9bq\\xbc\\xe8Av\\xbd\\xc4\\xac\\xf6\\xbb\\\\\\xfa\\x8b\\xbd\\x06\\t\\x03>\\x9b\\xe3\\x8c=\\x0e9\\xee<r\\xeaU;\\xd1\\xf5\\xd5\\xb9\\xc8\\x00X\\xbcE\\xbcu=\\xe8\\xc7R:\\xe3\\x03\\x93;\\x16)\\xdf<\\xfe\\x11\\x07<\\x1dB[\\xbc\\r\\\\\\xf2:\\xc9~\\xd3<\\xcd\\xb0\\xa4\\xbbv@\\xfe<\\x8d\\xd9\\x8d:c\\xb88=\\xf0\\x10\\xce\\xbb\\xc3\\xf2<\\xbd\\x82\\xc7%\\xbd3d\\x16\\xba=\\xa9\\xf3;]\\x85l\\xbd\\x8c b=\\xbf\\xcb^;\\xa9\\xa4\\\\\\xbdxn;\\xbd\\x14\\xe8{=2\\xc0\\xec;\\xab\\x81\\xc0<&\\'\\x9b\\xbc\\x91\\xd0\\n=1\\xbe\\x81\\xbdq\\xcf\\x83;1\\x8b!=\\x9c\\x9f_\\xbb\\xa6\\xd7\\x8e\\xbcc\\xc3\\xa1\\xbd\\xa2\\xa4\\x83<\\xf2\\x91\\xc3\\xbc\\xad\\x00\\x1b=^\\x94P=\\x1c\\xc3 =[\\x97&= \\xa9\\x8f\\xba\\x9a\\xd5\\xe1<\\xf0\\xbc\\xb2\\xbb\\xd5\\xa8Q\\xbd!\\xf1\\xe3\\xbc;\\xd3\\xb9\\xbc\\x1a\\xfc\\xcb<\\xec&\\xa2<\\x18.\\xd5;\\xd6\\x8c\\x01\\xbd\\x10\\xdb];\\x9c6\\x05<\\xd3\\xb4\\xc2<\\xed**\\xbdy`\\xdb\\xbcDgu;bq\\xd5<\\xad\\x0f$\\xbaE\\x8ds\\xbc\\xb8\\x14\\xee\\xbd\\x88\\xce\\xcc;\\xe6\\xfbE=6\\x05a=y(\\\\\\xbd\\x96\\x858\\xbc\\x8d\\xeb\\x86\\xbch\\x08\\'=\\x9d\\xb6\\x15=\\xb2\\xea\\xca\\xbd\\x15\\t\\x1e=3\\xdf\\r=\\x0ciP\\xbc\\x92\\xe5\\x1c\\xbdp\\xb5\\xad\\xbc\\xbb$\\xdd<?\\x9e\\x80\\xbam\\xc5\\x1d\\xbd\\n95\\xbb\\xb7\\n\\xb9<n\\xe2\\x87<v\\x95:\\xbb\\x97~\\xcf\\xbcA\\xde\\xeb\\xbc\\xaa\\x88\\xd8\\xbcu\\x8dW<J\\xfbO\\xbd\\xc3\\xedC\\xbc\\x85Pl\\xbc\\xcb\\x95z<N\\xec\\x08=C\\xb5\\t<\\xb6\\x96\\xf4<T][=N\\xbcW\\xbd\\x16\\xa4\\x88\\xbb\\xa0\\xbc\\xa0;\\xc8\\x91\\xad=>\\xcb,\\xbdj\\xa7\\x14=\\x9d\\xf1`\\xbd\\x80l\\xd4; +M=Y\\xf4\\xa9\\xb9\\xee\\xfc\\x16=\\xb2\\xfds\\xbc\\xeb\\xa3\\xbe\\xbc\\x10\\xcf\\xb3<\\xd7\\xad\\xf8;\\x11\\xc3\\xe6\\xbc\\xb9#=:\\xa4\\xcdC\\xbd\\xfc\\xad\\x13\\xbd\\x98\\x0e\\x91\\xbc\\xab:\\n\\xbd\\xff\\x98\\xa3\\xbc\\xb4\\xdf\\x04=\\x81tU<\\xe8\\x9b\\xe0\\xbc\\xf4.\\xd5<N\\xbd\\x99\\xbc\\xf3?W<\\x1e\\x03D\\xbb\\xb9X\\xcb\\xbd\\xcc\\x00\"=H\\xd6P\\xbc|\\xa0\\x84\\xbd\\x9a\\xe0\\'\\xbb\\xc3\\xfe\\xb1<\\xb5\\x08)=\\xc5\\xed\\x8e\\xba\\x8c\\xba0\\xbb\\xb5\\x8c\\xdc\\xbc\\x0f\\xe3\\x9f\\xbdNB\\xdd\\xbc\\x9f\\xb3\\x93<\\xbe\\xb8\\x9c\\xbdM\\xa8];\\xaa\\xc8\\xbe<\\x18\\xfd\\r=Q\\x16\\xcf;5@\\x8d=\\xf3\\xc0)\\xbcm\\xcd\\x9c=1`\\xf3:\\x86\\xdd\\xe9:G\\x99\\x8a\\xbb\\xfb\\xd4\\x83\\xbd\\xf5{\\x10=\"\\xf6\\x1f\\xbd\\xf9\\r+<\\xa9\\xc8\\xda\\xbb\\xa0\\x8a\\xfc<\\xee\\xb5\\x91;$l\"\\xbc\\xe7\\x15\\xf9\\xbc?y\\xe5\\xba&mX\\xbd\\xa4\\x94\\x1f\\xbc\\xba6`\\xbc\\xd2@\"<\\xbd[w=\\xd1\\xdf\\xdd<I\\x00\\x0b\\xbd\\x04\\x1a\\x06\\xbdVAR\\xbd\\xf2G&\\xbd\\xbfc\\xc9\\xbc\\xb7\\x8d\\x91=\\x9cY\\x17=X\\xb0\\xae:\\xba\\xf3\\xa0=c\\xb1\\xcd\\xbb\\x98<\\x16=G6\\x9f=\\xab\\xe1\\xd0<\\x056#; \\xea\\x9e=\\xb7\\xf0\\xf5<\\xb9\\xbe\\x15\\xbduby<\\xf5O5\\xbd\\xc2Q\\xe2\\xbc!i\"\\xbd\\x7f\\'\\xa7\\xbcz\\xc9 =N\\xda0\\xbd\\xb3OI\\xbc\\xc2G\\xc0<\\xad\\xf1\\xb3:(\\xebg=\\r\\x1e<\\xbd\\xf5>T\\xbc\\x03\\xb4\\x8b<\\x18M\\xf7<\\xcc7\\x84<\\x86\\x92\\xec\\xbc\\xbe\\x17\\x9c\\xbc\\x11\\x05\\xb2\\xbc\\xce\\xac\\xd1<n}\\x04\\xbb3\\xae@<\\xc0I\\xef<\\x06\\x92i\\xbd&x\\xb3\\xbc\\xd3A3=g`\\xaa<P\\x8a:=)\\xdeU\\xbcJ\\x94$\\xbd\\xa6[\\xce\\xbc\\x17|&\\xbcgx\\x92<\\xc9\\x94\\x9b\\xbd\\xb7\\xd0\\xdf<\\xd6\\xfb\\x81=\\xa4u\\xc7\\xbc@/\\xff:% *<Q-<\\xbd\\xc7\\xe95;\\x121O=\\xfe\\xe0z<\\xdc\\xb1`\\xbcy\\xa0\\xe3;\\xe4\\x98%\\xbd!\\x0e\\xa6\\xbc\\x9d\\x19\\x82=@Q\\xd1\\xbb\\x0f\\x16\\xc5\\xbc\\xc2\\xa1u<\\x8b\\xe5\\xd8<\\x85&\\x9d\\xbc\\xcc\\x9ao\\xbd\\x97\\xfb\\xc8<]\\xd3\\x1e\\xbd\\x90\\x8c\\xb1\\xbd\\xed\\xaa\\x19\\xbb\\xf4\\x8d\\xf8<GXe\\xbc\\xc1\"\\xf8<\\x00\\xcf\\x81<\\x1e{\\x91;\\'\\xb6=\\xbd9\\x13c<\\x9fl0=\\xac/\\x86<\\x90\\x8a\\x9e<\\x95\\t\\xd9\\xbb\\x84\\xc6\\xb7<i\\xfb\\x8c\\xbc\\xec\\xa6\\xac\\xbc\\xc0[o\\xbd\\x92\\xe4\\x0c;\\xabt\\xe7<\\xa1\\xa0\\xb2\\xbcI\\xb1K<\\xfbV\\x9e\\xbd\\xfd\\xef\\xbf\\xbc\\xbc\\xfbo=\\xd35D=\\xb6\\xfa\\x81\\xbc\\xac%\\xe0<\\xfb\\xb8n=\\xefw\\xf3\\xbc\\xd2]\\xb4\\xbduy\\x81\\xbc\\x19{\\x94<R\\xddV\\xbd\\xe3\\xa7\\xd9\\xbb\\xe9`]<?[\\xee\\xbb\\xa8\\x9d\\x0b\\xbc\\x1b\\xd0.\\xbc\\x8d\\xd5s\\xbd\\xbc\\x81?\\xbd\\x07\\x9fm\\xba\\x82|\\xfe\\xbc\\xf8\\x8cw\\xbd\\x7f\\xbf\\xe8\\xbb;\\x8e8\\xba\\xe9\\xe9\\n=*\\x02\\x88\\xbc\\n*z<\\xfb`\\x84\\xbcX\\xf5== \\xd5+=\\x1f \\x85<)\\x91\\x17\\xbd\\xfd\\x97E\\xbdG=\\x9a\\xbbJM\\xf6\\xbc\\xe1\"M\\xbdh\\xc8X\\xbcp7t;R(\\xe1;\\xa8\\xf7\\xd7=\\r\\x9d\\xba\\xbc\\xeb|w;\\x81\\xb8\\x0b\\xbd2.\\x1a=v\\x01\\x0b=\\xd2\\x1d5={Sb=3\\x7f\\xa9\\xbb\\x04\\xc0Z\\xbc\\xd3\\x89\\x10=&\\xbd\\xa6=&\\xe8g\\xbd`\\'\\xa7;M\\xda@\\xbc\\x8c\\xeb\\x04\\xbd\\xd2@%=(\\xabP\\xbd\\x04\\xad\\xec\\xbc\\xd7B\\x88\\xbc\\xbb\\xca\\x16\\xbdt\\'\\x0c=\\xf3H\\x10\\xbdFN\\xd6<\\xc8m\\x80\\xbc\\te\\xd3\\xbcY14\\xbc\\xaf\\xa0\\xc1\\xbc\\xe8\\xaa\\x1e=PE\\xf2\\xbc\\x90\\xfc\\x1a=\\x06\\x8f\\x00<%U\\xc7<\\x9ab\\xe5<\\xf9\\xfc\\xf7;|\\x89\\x99\\xbc\\xd9\\xe5\\x8a=g%\\xa9\\xb9\\x18Z\\x06<``\\x9a\\xbd\\xb89\\xc9<\\x80x\\n=m\\xf5\\x88=Z6$<\\xfa\\x8c>\\xbd,;\\xdf;\\xf2G\\xc2:\\xe4\\xbb\\x19\\xbd\\x8a,\\x89\\xbc&2\\xad\\xbc\\xd9\\x0b\\x08=[\\xc1\\xf7;\\x13r;\\xbd@`<\\xbd\\x8d\\x181\\xbaW\\x13\\\\<\\x0c \\xbf=r\\x19\\xdf:tAJ=\\x8c\\xe1\\xca=\\rs\\x82<\\xd8<\\x12=u\\xab\\x9b<\\xd6\\xe2\\x1d\\xbc\\x89\\xe8\\xc5\\xbc\\x9d\\xfdm;\\xff\\x0b\\xda\\xbc:\\x13\\xc7<\\x150\\xb5\\xbd\\x1c\\xd5\\xa5\\xbc\\x15\\x1f\\x8a\\xbcF\\x87#=m\\x90\\xe9<fW\\xb4\\xbd\\x1c-@\\xbdN\\xb7\\x81\\xbc=\\xe4\\r<\\x8d\\xce\\x07=0\\xd4\\xba\\xbc\\xee\\xddq=A\\n\\xa0\\xbc p\\xda\\xbc\\xccx\\xc4\\xbcv\\x8c\\x7f\\xbb^\\x1fM\\xbd1\\x85\\x0b9B\\xf1\\'\\xbc\\x9f\\x84\\xdb;f\\xb3w=XIG\\xba\\xbc3\\x90<(TZ<\\xc3\\xca\\x1f\\xbcj\\xd8*<mY\\x88\\xbb-\\x8a\\x94<TI\\xa4\\xbcE2\\x16\\xbc\\xf2\\x82\\x0f<\\x93\\xba\\xbc;\\xef\\x08\\xca\\xb92\\xf1\\xea<k\\xe2\\xac\\xbc6\\x01\\x93\\xbc\\xce\\xc9\\x06\\xbd?\\xa5\\x1b=\\xae\\x06\\x80\\xbd\\xc7k\\x06;\\xacs\\xd4<\\xe7@\\xc6;\\x1f\\x14>\\t\\x9a\\xb0[\\xbd\\xf0\\xf7\\xab\\xbc\\xf6VD\\xbd\\x92F\\x88=\\xaa2\\x00\\xbd\\xccI\\xf2<>\\xce~\\xbc\\x17\\xebH\\xb9M\\xfd\\x0b=\\x81\\xa1\\xf3<cV:\\xbd\\x98\\x98\\x05\\xbc\\x92\\x9do<\\xd42\\x1f=\\xe5\\xbb\\xf2;\\xa0$ \\xbc\\xc0\\xe4\\x04<\\xe0\\x8c|\\xbcR&\\xb0<\\x95_1\\xba(\\xaa\\x0f\\xbdc]\\x91\\xbd\\xb0\\xb0\\x1a\\xbd\\xdf\\xcb\\xc1\\xbaA\\xb2a\\xbd\\x9b\\x81-\\xbd\\xa2fm;g\\x1a\\x08\\xbc!\\xcb\\x8d<\\x92\\x8e\\xfd\\xbc\\x1f\\x1fa\\xbc\\xb4s\\x18=\\xf1\\x82\\xe8<T\\x19\\xb0\\xbc\\xf87\\xe1\\xbd\\x08\\xfb\\x85\\xbd\\xee\\xf7^=O\\xf2\\x0c\\xbcG\\xf0\\xbb\\xbc7\\xaeB\\xbd#\\xf1[=\\xd5\\x19\\xe2\\xbb\\xa4j\\x1d</\\x94\\x9a<\\x9f#\\xf2:\\xc5N\\xa2\\xbba\\xb1\\xa6= S\\x11\\xbc/\\x15\\xe9<\\xc3e,<\\x11[\\xa0\\xbcO\\xff\\x95<jQ&\\xbd\\xe6\\x11-=^]G\\xbd\\xbc7\\x80\\xbb\\x11u{=\\x11[\\xd6<\\x80\\xde\\xe8<\\xf4\\x8dD=\"\\xc9K\\xbc\\xb1\\\\\\xed<\\xe8\\xbc\\xab<\\xee\\xdb\\xb5;<+\\xcc\\xbcMzn\\xbdE\\x96\\xe5\\xbc-\\xa2\"\\xba#\\xe8\\x84<6F\\xdb<\\x9f\\xd6\\xda<\\x0b\\x1e\\'\\xbc\\x02\\xb2\\x1b=\\x11\\xb4\\x89\\xbc\\xd2\\xbd\\xf5<\\x93e\\xc4;\\xaa\\xe7\\xca;S8\\x93<bV\\xe0\\xbc\\x02t\\x0e=9B6=\\xc89A\\xbd\\xa2\\xb0h\\xbd\\xdf\\xff\\xac\\xbcnq\\xbf<QF\\x8e\\xbd\\xe5~\\x19\\xbdc\\xb9\\xe7\\xbb\\x9dJ-<\\xc6\\x04\\t\\xbd\\x95\\x806=\\x96\\x18\\xdd\\xbc\\xb6\\xa9\\xd2<\\xd8\\x14O;\\x86\\x0e\\x8c<%J\\x8e<\\xa4\\xe9\\x8b\\xbc\\x02l\\xeb\\xbc\\xee\\xa09\\xbc\\xd2\\xb5d\\xbb3V.;\\xc8&\\xd9\\xba\\xe9\\xf8\\xac\\xbc\\x19\\xe0\\xcc<N\\xe6\\xb0\\xbc\\xf2\\xc8b\\xbc\\xc1\\xceG\\xbd9b\\x80<\\x14\\xa2\\x19=\\xb0\\xd8?=\\xef`\"\\xbd\\xab\\xb2|=_\\xa1\\xc8<@\\xf1\\xe7\\xbb\\x05\\x10\\xa7< \\xc8\\x10=\\x84F+<\\xe1\\x0c\\xe7<1b\\x04\\xbdHG\\xa5<\\xb6\\xb2\\xfe\\xbc\\xfa\\xad.<\\x91\\xe6O<\\x7f\\x15\\xb0<~\\xe0\\xe3;\\xe2\\xfe\\x86=\\x1a\\xea\\xc1\\xbb\\x96\\x80\\xa1=\\x06\\n\\x87<\\xd8RT=\\xc6\\x05\\x05=\\xacEG\\xbd\\x98s\\xfb;\\x1f\\xe8E<\\xcf\\xf3\\xa6<\\x94\\x1c\\xab;\\x81?\\x85=h\\xdb\\x9c\\xbc\\xf5t!=\\n\\xfb\\x90<\\rS\\xa0<\\x19\\xb6\\xe2;\\x8b?\\xcc<\\xd5\"\\xbf<L\\xd3Q\\xbdZ\\x13.=\\x0c8\\x18\\xbd\\x8e)\\xa8\\xbd\\xb3\\x8c\\xea;\\xfeR(\\xbbV\\xbdx\\xbc$\\xe2g\\xbdQ\\xf2\\xce\\xbdJ\\xe2%=w\\xbf\\n\\xbb\\xbc\\xf6B;\\x9b\\x841=QZ\\xcc\\xbb\\x1b\\xc2d\\xbd w\\xd2;\\xf2\\xc7\\xa8=1\\x05\\r\\xbd4\\xe5\\x9e\\xbc\\x04\\x1a\\xf9<&\\xa2\\x9b\\xbd$\\xe7m\\xbb3\\xb6u\\xbb\\xe6\\xb62\\xbbX\\x9bO=\\xf8e+\\xbd\\xc0W\\xa2;\\xfd\\x86\\x06=Q\\xde\\r\\xbd \\xbc<\\xbc\\xae\\xf6h\\xbc1\\x84$\\xbd\\xf8\\x08!\\xbb\\x93~\\x88<\\x884\\x9d\\xbdY]H\\xbd2\\x89\\xb9:\\n\\xa8\"=\\x14\\xeb\\xdb\\xbc\\x8ao\\xdf;\\xf6\\xa3q<\\x16\\xccM\\xbd^,\\x13=\\x94\\x9e\\x06=\\xe8\\x1e\\xe8:\\xcco(=3t\\x03\\xbd\\x7fl\\xb8<U\\t\\x86\\xbb\\xe4\\x94\\xcd;=51=\\x0b\\x1a\\xfc<\\xe8\\xbd\\xd4=\\xf4B\\xad<_\\n><b\\xe7\\x86=\\x8b\\x1af\\xbc_j\\r\\xbdI\\x9b\\x1c\\xbc7%\\x1e\\xbdp\\xcd\\xae;6\\xfea=P[G\\xbb@\\xfc\\xae\\xbd\\x9a\\x89\\xbc<j\\xd5v=\\x1b\\xa7\\xd4<w\\xe0 \\xbc0\\n/<\\xe8\\xb31\\xbc+\\xae:\\xbc\\xe8\\xbb\\xf1\\xbb\\xe7\\xa2^\\xbc#d\\xf5;M\\xe3V<\\x07\"U<p\\xc11\\xbd \\xb8\\x1f<\\rG\\x1b=y&\\xa9\\xbcm\\x9ek=\\x08\\xe9\\xb7=\\xa6\\xbc\\xdb\\xbc\\x03`I\\xbc3\\xc4.\\xbc\\xce\\xa7\\x1c=\\x89\\xad\\x9c\\xbc\\x7f\\x15\\xa1\\xba\\xb9\\xbb\\x0f9\\x88u\\x19\\xbd\\x81\\xbf\\x87<p\\xd2\\x13=\\xbf\\x00\\xb7<\\x1f/$;\\xc1j\\xa2<\\x85\\x95\\x8f\\xbc\\xcc02=\\x0bRG\\xbcN\\xec\\xe3\\xbc\\xae~\\xe3<\\xbd\\x1f\\x19\\xbc\\x19\\xae\\x04\\xbd\\xdc\\xcc\\x01=\\xfd\\xa0\\xb0\\xbb\\x8f\\x02\\xd5\\xbc\\x1b\\xf3H\\xbb\\xc6qC=\\xee\\xe31=\\xfc\\x1e#<\\x8f\\xdd\\x1d=K\\x85\\x17\\xbc\\xff\\x0f\\x92;\\x0f\\x94\\xee\\xba\\x10\\x99\\xb99`\\xac\\x80=\\x9a\\xaau\\xbd\\xa3\\xb0\\xa5\\xbck\\x93\\xd9\\xbc!\"\\x86\\xbc\\xd8\\x96d\\xbc\\xe5\\xd4 \\xbd\\xb4DI\\xbc]L\\xbe<\\\\\\xe7\\xff<\\xc1I\\x9d<gG\\xd6=\\x95\\xa9\\xa2\\xbb\\xd0\\x8f\\xdd;\\xd5Hh<'}"
      ]
     },
     "execution_count": 258,
     "metadata": {},
     "output_type": "execute_result"
    }
   ],
   "source": [
    "# Check one of the products\n",
    "tweet_metadata[0]"
   ]
  },
  {
   "cell_type": "code",
   "execution_count": 406,
   "metadata": {},
   "outputs": [
    {
     "data": {
      "text/plain": [
       "True"
      ]
     },
     "execution_count": 406,
     "metadata": {},
     "output_type": "execute_result"
    }
   ],
   "source": [
    "redis_conn.flushall()\n"
   ]
  },
  {
   "cell_type": "markdown",
   "metadata": {},
   "source": []
  },
  {
   "attachments": {},
   "cell_type": "markdown",
   "metadata": {},
   "source": [
    "Now we have 1000 embeddings for the 1000 tweets\n",
    "\n",
    "Prepare 3 utility functions\n",
    "\n",
    "One for loading the product data and two for creating the index on Vector fields"
   ]
  },
  {
   "cell_type": "code",
   "execution_count": 393,
   "metadata": {},
   "outputs": [],
   "source": [
    "def load_vectors(client:Redis, tweet_metadata, vector_dict, vector_field_name):\n",
    "    p = client.pipeline(transaction=False)\n",
    "    for index in tweet_metadata.keys():    \n",
    "        #hash key\n",
    "        key='Tweet:'+ str(index)+ ':' + tweet_metadata[index]['keywords']\n",
    "        #hash values\n",
    "        tweets_metadata = tweet_metadata[index]\n",
    "        keywords_vector = vector_dict[index].astype(np.float32).tobytes()\n",
    "        tweets_metadata[vector_field_name]=keywords_vector\n",
    "        # HSET\n",
    "        p.hset(key, mapping=tweets_metadata)\n",
    "\n",
    "    p.execute()\n",
    "\n",
    "def create_flat_index (redis_conn,vector_field_name,number_of_vectors, vector_dimensions=512, distance_metric='L2'):\n",
    "    redis_conn.ft().create_index([\n",
    "        VectorField(vector_field_name, \"FLAT\", {\"TYPE\": \"FLOAT32\", \"DIM\": vector_dimensions, \"DISTANCE_METRIC\": distance_metric, \"INITIAL_CAP\": number_of_vectors, \"BLOCK_SIZE\":number_of_vectors }),\n",
    "        TagField(\"keywords\"),\n",
    "        # TextField(\"is_quote_tweet\"),\n",
    "        # TextField(\"primary_key\"),\n",
    "        # TextField(\"conversation_id\"),\n",
    "        # TextField(\"is_retweet\")        \n",
    "    ])\n",
    "\n",
    "\n",
    "def create_hnsw_index (redis_conn,vector_field_name,number_of_vectors, vector_dimensions=512, distance_metric='L2',M=40,EF=200):\n",
    "    redis_conn.ft().create_index([\n",
    "        VectorField(vector_field_name, \"HNSW\", {\"TYPE\": \"FLOAT32\", \"DIM\": vector_dimensions, \"DISTANCE_METRIC\": distance_metric, \"INITIAL_CAP\": number_of_vectors, \"M\": M, \"EF_CONSTRUCTION\": EF}),\n",
    "        TagField(\"keywords\"),\n",
    "        # TextField(\"is_quote_tweet\"),\n",
    "        # TextField(\"primary_key\"),\n",
    "        # TextField(\"conversation_id\"),\n",
    "        # TextField(\"is_retweet\")   \n",
    "    ])    "
   ]
  },
  {
   "cell_type": "markdown",
   "metadata": {},
   "source": [
    "# Comparison of flat and HNSW indexing for approximate nearest neighbor search"
   ]
  },
  {
   "cell_type": "markdown",
   "metadata": {},
   "source": [
    "Index & Query the new data"
   ]
  },
  {
   "cell_type": "code",
   "execution_count": 394,
   "metadata": {},
   "outputs": [
    {
     "name": "stdout",
     "output_type": "stream",
     "text": [
      "Loading and Indexing + 1000 tweets\n",
      "CPU times: total: 109 ms\n",
      "Wall time: 1.59 s\n"
     ]
    }
   ],
   "source": [
    "%%time\n",
    "\n",
    "KEYWORDS_EMBEDDING_FIELD='keyword_vector'\n",
    "TEXT_EMBEDDING_DIMENSION=784\n",
    "NUMBER_TWEETS=1000\n",
    "\n",
    "print ('Loading and Indexing + ' +  str(NUMBER_TWEETS) + ' tweets')\n",
    "\n",
    "#flush all data\n",
    "redis_conn.flushall()\n",
    "\n",
    "#create flat index & load vectors\n",
    "create_flat_index(redis_conn, KEYWORDS_EMBEDDING_FIELD,NUMBER_TWEETS,TEXT_EMBEDDING_DIMENSION,'COSINE')\n",
    "load_vectors(redis_conn,tweet_metadata,keywords_vectors,KEYWORDS_EMBEDDING_FIELD)"
   ]
  },
  {
   "cell_type": "markdown",
   "metadata": {},
   "source": [
    "Query our FLAT index"
   ]
  },
  {
   "cell_type": "code",
   "execution_count": 395,
   "metadata": {},
   "outputs": [
    {
     "name": "stdout",
     "output_type": "stream",
     "text": [
      "CPU times: total: 46.9 ms\n",
      "Wall time: 87.8 ms\n"
     ]
    }
   ],
   "source": [
    "%%time\n",
    "topK=5\n",
    "tweet_query='rwanda drc'\n",
    "#product_query='cool way to pimp up my cell'\n",
    "\n",
    "#vectorize the query\n",
    "query_vector = model.encode(tweet_query).astype(np.float32).tobytes()\n",
    "\n",
    "#prepare the query\n",
    "q = Query(f'*=>[KNN {topK} @{KEYWORDS_EMBEDDING_FIELD} $vec_param AS vector_score]').sort_by('vector_score').paging(0,topK).return_fields('vector_score','keywords_vectors').dialect(2)\n",
    "params_dict = {\"vec_param\": query_vector}\n",
    "\n",
    "\n",
    "#Execute the query\n",
    "results = redis_conn.ft().search(q, query_params = params_dict)\n",
    "\n",
    "#Print similar products found\n",
    "for tweet in results.docs:\n",
    "    print ('***************Similar tweets  found ************')\n",
    "    print (color.YELLOW + 'Score = ' +  color.END  + tweet.vector_score)\n",
    "   # print (color.YELLOW + 'conversation_id = ' +  color.END  + tweet.conversation_id)\n",
    "    print (color.BOLD + 'keywords = ' +  color.END + tweet.keywords)\n",
    "    #print (color.YELLOW + 'is_quote_tweet = ' +  color.END  + tweet.is_quote_tweet)\n",
    "   # print (color.YELLOW + 'primary_key = ' +  color.END  + tweet.primary_key)"
   ]
  },
  {
   "cell_type": "code",
   "execution_count": 400,
   "metadata": {},
   "outputs": [
    {
     "name": "stdout",
     "output_type": "stream",
     "text": [
      "b'_\\xa3\\x03=\\xf67\\x19\\xbd\\x17\\xef\\x11\\xbc-\\x14\"\\xbd\\tA\\x92=\\x046\\xb6\\xbd\\xec\\xefN\\xbb?@\\x87=\\xf7=\\t=\\xbd\\xad\\xdb\\xbcK\\xfe\\x10\\xbd\\xbf\\xbba=]\\xa8\\x80\\xbcDr;\\xbd\\xd8ey<L/\\xae\\xbc\\xc7 \\x18=q70\\xbd8\\xf8\\xcc\\xbb\\xe1\\x05B<\\x02W\\xc1<^\\xa3\\n=U\\xc2\\x0e\\xbd\\x86i\\xa5<\\xaf!\\x83=\\x16_\\xac;\\xcfTC\\xbc\\xfa\\xf6\\x17\\xbb\\xcf\\xf3\\n\\xbd\\x14\\xfa\\xdd=\\x9fm\\xf0<\\x87\\x9f}\\xbd\\t7\\xb6<\\xe4\\xb7\\x85<\\x16\\x7fD\\xbd\\x9e;!<e\\x00u\\xb9\\x84\\xd0\\xd6\\xbc\\x01]\\xc1<\\xd9\\x9c\\xa3<}a\\xeb<pP\\x86\\xbd\\x1eKZ=\\xe5\\xbe\\x82\\xbc%L|\\xbc\\xd2\\x96\\x91<o\"~\\xbc\\xd75\\xeb\\xbc &7\\xbc\\xc5&\\xf0\\xbc6@f\\xbb\\x17\\x16\\xee<_T\\xde\\xbcn.\\x8b\\xbc\\x8cX\\xc0\\xbc\\x88!W;7\\xa6\\xf1<\\x8afp=\\xe8\\x91\\x94=g\\xe8\\x84\\xbc\\x1e\\xeb\\x06<\\xad\\xa1\\xae<\\xa4c\\x0b=\\xee2\\x18=\\x98\\xf4\\xa7=\\xed/\\x12=+6\\xa2<n\\xee\\x11<\\x8e\\x13V:\\xb2\\xe5\\x19\\xbd\"\\xe8\\x85<\\xe6!Y\\xbd]G\\x05=\\x8a\\x98\\x9b<\\xd0\\x15f<\\xa4\\xd5\\xd8\\xbca!\\x95\\xbc\\x7f\\xea\\xf5\\xbc\\xa2u\\xa3\\xbd\\xfc[\\xed\\xbc(0\\x81=\\x03u!\\xbb\\x9b\\xa5$\\xbcH\\xd8\\x0c<\\x94\\xa5\\'=\\x85\\xdbu<LT\\xcc<\\x00J\\xb5=\\xb4i\\x8a\\xbc8\\xae\\xba\\xbb\\xa3,$\\xbc7(\\xf5\\xbb!\\x16\\x11=\\x85\\'\\x87=\\x86?\\xcc<\\x1f\\xe8`<I\\xd40=F\\xe9e=\\xbc\\x10\\xcf<\\x8b\\xedd=\\xde)\\x02;\\xbbL\\xc4<`\\xf91\\xbda_\\x8e\\xbcw\\xea:\\xbd#*\\xe4\\xbc\\x9a\\xd4\\xcf\\xbc\\x84\\x17(\\xbd\\xf3\\xc8\\xcf<a\\xdd\\x01;v\\x0f.<\\xe2/\\x9c<\\xe9(\\xf2\\xbb\\xe7d4\\xba\\xd6Y\\xb1\\xbb\\x91\\xfe\\xde\\xbb\\xb0\\xa9\\xfa\\xbc\\xc3\\x0fF=\\xe2\\x86\\x96\\xbb\\x10\\xcfJ\\xbc4\\x16\\x16\\xbd\\xc4l\\x89=\\xf5\\xd0\\xb1<\\xf6\\xd6m<\\xaf\\xe4S\\xbc \\xcc\\xb5;P\\x8aJ=b\\x8c\\xae<0\\xb9%\\xbd\\t\\r\\xaa\\xbc=\\xa0\\xd1\\xbc\\x806\\xba\\xbd% )\\xbd_\\x82\\xf6\\xbc\\xaf\\xc5\\xc8\\xbcbs\\xb9;\\xc9\\n\\x94<}\\xd8i\\xbb\\xe1\\x96\\x8f\\xba\\xc2\\xef\\xa7:#\\xbf\\xbd;=\\xf5\\xb3<\\x82\\xc6\\xa8\\xbd\\x08\\xdcF<\\x8fF\\xc8;m\\xa0\\x9e<\\x14\\xa1\\x80<\\n\\xb3n\\xbc\\n\\xba\\xf3\\xbd6\\xf7\\x1b\\xbcM\\xd2\\xf8;\\xf0W\\':\\xb2\\xcd\\n\\xbdRW\\xa3\\xbc\\x1c\\xaa\\xe2\\xbdx\\n2<!\\x1d\\x85\\xbc\\xc2\\xa1\\x01\\xbd\\x16|\\xab=0\\xe7\\x03=\\xe8\\xb0\\x02\\xbb\\x04L\\xd8\\xbd\\x82\\x88\\xc0\\xbb\\xa8O\\x1f\\xbc8\\xb9f\\xbc5l\\xef\\xbc@\\xc9\\xab\\xbc\\x12\\xf6\\xa0<\\xd1t\\xff<\\x15H\\xca<\\xf3\\x1c\\x0e=\\x05\\x84\\x89\\xbcQ\\x11U\\xbd&\\xa0\\xc49\\xfdZ\\x19=9;\\xbe=\\xb8H\\xad\\xb9\\xf2\\x13C\\xbbj,i\\xba\\xf6m\\x0b=\\x16jT\\xbdj\\xef\\xd5\\xbbC\\xea\\x0e\\xbd\\xca\\xd8`\\xbd\\xe4\\xc9\\xe0<f\\xcc+\\xbc\\x00Z\\x8a;4\\xaeB=8\\xd1\\x85<\\xca\\xa9\\xfc\\xbc\\xe0MB\\xbd\\x12V\\xf1<\\x95R5=\\xc2+\\xec\\xbd\\xe2\\xbe\\x02=\\xa3\\x1b/<\\x03\\xf8\\xbd\\xbc\\xcd\\x0f\\x98\\xbch\\xb9\\xda<0\\xaa\\x96\\xbc\\xb2\\xee\\xf5;\\xd5\\xc8$\\xbd\\xb0\\xab\\x83;\\xa6~\\x9c\\xbc\\x18\\xba@;\\xf8\\x85\\xf5\\xbc\\xc1\\x86\\xa6\\xbd\\nk\\'\\xbdb\\xaf\\x18<g\\x02;<s\\x07\\xe1\\xbcC\\xd4B\\xbd>\\xa9\\x80:U\\xb97\\xbc+NM<\\xb4\\xae\\xca\\xbc>\\x8e\\x17\\xbd\\xb7\\xd2\\x0f\\xbc\\xeey\\x02\\xbdl<\\t\\xbd\\xad\\xec\\x8c\\xbb\\x1d\\xc3\\xac\\xbc\\n3u\\xbd\\xf0\\x12\\xa1<@\\x97n\\xbdQ\\x82\\x98=V\\xe2\\xde<\\xbc\\x81\\xc1;h\\xd2\\x82\\xbc\\xf8\\x18\\x88<\\xa0\\xbf5\\xbd\\x89\\x1du\\xbc\\xd3\\x0b\\xea\\xbc\\x98\\x07H;Q\\x87\\x08=4\\xbd\\x01\\xbd\"\\xd0\\x1b=@\\xabc\\xbd\\xf2u\\t=!\\xfc\\x9a\\xbc\\xec\\x9d\\xb2\\xbc~h\\xb4\\xbc~\\xb2\\xed\\xba\\x81PY<\\x89X\\x17=\\xc7R\\x86\\xbd\\xad\\xa1E<`B8=\\x14\\xb0\\x04\\xbde\\x01E\\xbc\\xa3\\x89a=Vm\\xad\\xbc\\xa6\\'\\x1c=T\\x91\\xf9\\xbc\\xdeD\\x04\\xbd\\x7f\\x88\\xbb\\xbc@\\xd8\\xd9\\xbb\\xc0k\\x0f=\\x00\\xe3&<l!L\\xbd\\xf8\\x03\\xed\\xbc\\xb3\\xed\\xc7\\xbc\\xf2e\\x9d=\\x0b\\xfa\\xcd<\\x92\\xd8:<\\x10Qi\\xbd\\xa1G\\x82\\xbc\\xc9\\x7f\\x12\\xbd\\x19o\\x93=\\x17p\\xd4\\xbc\\xc5#\\xa4\\xbc\\xa6\\xc6P\\xbd\\x14\\xcb\\xb3<\\xa0_\\x9c\\xbd\\xed\\x99\\x17=5\\x91$<\\xca\\xc6M=Op\\xa6\\xbc\\xf8\\r\\xc8=\\xc1\\xfcc\\xbcKvK=\\xb5P\\x03=7\\xab`=\\xac\\xb0\\x92;\\x9b\\xb0\\xa1\\xbc\\xfd8\\xb1\\xbcV\\x87\\x92<qW\\x8f<\\x9e/\\x8d<o\\xa4^;\\x18\\x9f\\x96\\xbcN\\xa7\\xa9;\\x1f\\xa3\\xdf\\xbc\\x82\\x03K\\xbcm\\xbf\\xbb<\\x17\\xbf\\xab<\\xf1\\xd7\\x8a=\\x01(\\x9c\\xbd\\xff#)\\xbdl\\x93\\x93\\xbd\\x0c\\\\\\xcb;\\x1b4\\x14\\xbd\\xd4m\\xe4\\xbc\\xf9\\xf60\\xbd\\x8dZu<\\xfe[%\\xbd.\\xca\\t=\\x1fl\\xc1\\xbb\\xb3Gb\\xbd_m\\x07\\xbdI\\xad\\xac<9\\xfbt<\\xbb\\x96\\xf3<\\x08\\x1b\\xb9\\xbc\\xb4\\x98\\xc1;\\x86\\x15\\xda<\\n\\x1f\\x9c\\xbd\\xa5\\xc4#<\\xbd\\x8e\\xc9<\\x0e\\xb8n;\\xf3r\\xdb<j\\r\\x9c<\\x82I\\xb0<u\\xc3\\n\\xbaEU\\t=\\x17\\xbe\\x95\\xbb1\\xb56:\\x99-?\\xbd4\\x0f\\xee8S\\x1ca\\xbc1(\\\\\\xbd\\xf7\\x8dK\\xbdIjL=\\xea\\xef\\xad=\\x9a\\x19\\xa7;,\\xab\\x0f=\\x18u\\x96;+F\\x93<\\xe3\\xc0\\xc6\\xbb\\t\\xd8\\xe5<\\xc4\\x10\\x9c<\\x94\\x95\\x04;\\xc5j\\xb19A\\xf6q<\\xbb,\\x1c=\\x10\\xbc\\xcd\\xbcQ+B\\xbd\\xcf\\'8=\\xdc\\xb8\\x00\\xbc\\xba\\x05\\x94<\\xbaLx<z>\\x92<r\\xf4d<+\\x19\\x00\\xbd\\xd1\\x1f\\x0b;\\x10\\xdf\\xb0:R\\x97\\xc3\\xbcY\\r\\xdf9<\\xe7\\xc4<\\xa5\\xaa\\xa1\\xbd\\xa7\\x1b\\xa9\\xbc)\\x99\\xc0={\\x10&<\\xf6\\xb7\\x03=\\xfc\\x12\\x88<\\xcd%\\xbc\\xbd\\xd1\\xdb\\x12\\xbe\\x9f\\xd7\\x1a\\xbd\\xf5\\xc8\\x84<#\\xc0#=u\\x81\\x90\\xbc\\x87\\x88\\x97;.\\x7fR<\\x91\\xcb\\x8d=\\xbb \\xa3<\\x07\\x1e><H\\xf0\\x94\\xbd\";8\\xbd\\xb8#\\x83==1\\xf5<z\\x8b\\x04=\\xa7\\x15\\xeb\\xba\\xe9\\x98\\xa9<\\x83\\xcd\\xce<\\n\\xc8\\xd0<\\x89U\\'\\xbd\\xcf\\xd79\\xbc\\x91\\xca4\\xbd>\\x90Z=\\xbc*\\x1d=\\xfa&\\xe1\\xbd\\xda\\\\\\x11\\xbc\\xc3\\x99\\x94\\xbcKY\\x87\\xbb3_\\x95<y\\x98\\xce;\\x18^\\x0c\\xbdQx\\xcd;\\xd4\\xd5?\\xbdI\\xce\\x9f\\xbc\\xdd\\xc8\\x96<\\x80\\xf1\\xd6<\\x9a}\\x80\\xbc\\x9dD\\xe4\\xbc\\xa1\\xf4\\xf0\\xbcbz\\x9f=\\xa8q\\x8a\\xbd\\xb5\\x91|\\xbdf!\\xcb\\xbb\\xbd\\x1e\\xa3\\xbd\\x87\\xcd?<\\xbaA\\x83=\\xff\\xe0\\xe1<\\x90\\xca\\xc5\\xbd(\\x1f\\xdb<(N\\x03\\xba\\x8b\\x9dX\\xbc\\xc9U)=\\x98\\x8f\\xc9\\xbcV\\x89\\x99\\xbb\\xc9\\x14\\x85=\\xae\\x11n\\xbc)\\xca\\xf4\\xbcl\\xfd\\xe0;\\xb2\\xb6s<\\xbd\\xc8j\\xbc\\xc37i\\xbd,pv<`h\\xa6\\xbd\\x80\\x0b\\xfb;Z|1=\\xf6_\\x07=/\\xbd\\xa3=8\\xca\\x95<*\\xc1\\x88;\\xe0]\\x93<\\xc9\\xa5 \\xbc\\xf1\\x86X<\\xf4j$\\xbd\\xa7?+=\\x10y\\x90<\\x93\\xd8\\xac:\\x0c\\xdd\\\\<R\\xa4\\x92\\xbc9c\\x84\\xbc+#\\x84=T)^<e\\xd0r\\xbb\\x98\\x1d\\xd7\\xbc\\xa3\\xbbA=S\\x03\\xea\\xbb\\xd3\\xfc\\x04\\xbc\\x7f\\x9f\\x1d\\xbdJC\\xe9\\xbd-\\xc58\\xbc\\x1c\\x80B:\\x86\\x96\\xb2\\xbc\\xff\\x9c@=\\xea\\xaa\\x10\\xbc\\xe69\\x86\\xbc\\nr\\xe7\\xbcv\\xd8\\xc7\\xbc+\\xef\\xa8\\xbc(\\x9c\\xe9<\\x9c\\xc9\\xd8<\\x12g\\xf2\\xbc\\xf8\\xcdg<&<\\x87\\xbd.\\xb8\\xa4\\xbc\\xfb\\x8b\\r\\xbb+\\xddm;(\\xed\\xd3\\xbc#\\xbaz<Lt\\x96\\xbc\\x83\\xe8,=)\\xa5\\xb6<\\x1c\\x87\\x93\\xbb\\xff\\x97\\xa0\\xbdBG\\x9c;\\xb2\\xd8\\x82\\xbd-\\xad\\x1a<]\\xdc\\xa4\\xbbU\\xc2\\x97<\\x1c\\xbd\\x0f\\xbb\\x16uY<0n\\xc6\\xbc\\x89\\xe3e\\xbd\\x80\\x9cu\\xbc\\x14;\\xdc\\xbcW\\xdc\\x15\\xbc\\xbe\\rS\\xbd8\\x04%\\xbd\\xbb\\xac@\\xbd\\x9a\\x03\\x87<\\x0e\\xb5M\\t\\xba%3\\xbd\\x99\\xf5<\\xbd\\'\\xf7\\xb6;\\x82\"O=g\\xbai;\\xf0o!<\\xc8\\x12\\xae\\xbc3\\xd6/=\\x83\\xc8\\xb7<}\\x06\\xcd;Y\\xa7l\\xbc\\xc2\\xc6d\\xbd-\\x88\\xa8\\xbc,\\x9b|\\xbc\\xb3z\\x85;\\x8a\\xd6\\xc3:\\xa4E\\xfc\\xbb(\\n\\xe2;\\x91\\xe3\\xb5\\xbcS\\x00\\x00\\xbd$Xy\\xbd\\xc8\\xffj;\\x84\\xd4\\x95<=i\\x8f;P&\\xa3\\xbc\\xfe\\x1e\\xe9\\xbc\\xef\"\\xa9\\xbc\\xf0\\xe0B\\xbd\\xa0)\\x93<\\x18\\x89S\\xbc\\x1b\\x16I<\\xbd\\xfb\\x98<\\x07\\xae\\xd3\\xbc\\x15\\\\N\\xbcJ~\\x95\\xbd<\\x96\\xcd=\\xecaB< zF\\xbc\\x18\\x8d\\x02\\xbd\\xe8gS\\xbcV\\xfb\\x91\\xbc\\xbf\\'L\\xbdTP\\\\=\\x13~\\x81\\xbbD\\x99\\xd6<\\x7f\\xcb\\x8e=W\\xe7\\x1f=r\\x15J<f\\xf4\\r<\\xb79m<9\\x10\\x1a=\\r\\xc15=Od\\xdc<3R\\x01<\\xf4N@=\\xa4>\\x17=u/\\x82\\xbd7\\x05\\xc7\\xbc\\xb6\\xfcW\\xba5o\\x0b\\xbc\\x10\\x07\\xa4<\\\\^\\x81\\xbdZ\\xde\\xad<<mR<\\x86\\t\\x0f=o\\xa0A=E\\x90\\x8b\\xbcn\\xc8\\xc3<\\x86\\xc8\\x86=\\xe4\\x99\\t<\\x02!A<\\x85\\xf3l\\xbb\\xe9\\x93&=l9\\x9a;=\\xc8\\x18\\xbd-r\\xdf\\xbcD\\xad\\x01=\\xf5\\x03j<\\'\\x82\\xe8\\xbdc\\x0e;\\xbdZ$\\x8f\\xbb\\xcf\\xbf\\xcc\\xbb\\xe7\\x90\\xa8\\xbd})#\\xbd!\\xd6\\x06<\\xb9\\xdf\\xc1\\xbb5S#\\xbc\\xb1\\xc1H\\xbc\\xde\\'y<\\xd6\\xb5\\xa1\\xbc:\\xb3&=\\xc4\\x8aI=\\x10\\xc4\\xe3<=\\x10\\x06;\\xb8\\xb9\\x8d<1\\xf1\\xd7\\xbc\\xbe@\\xab\\xbc\\xf4ff\\xbd\\x80\\xd4\\xc7\\xbc\\xc5\\xb8\\x17\\xbd\\xebBs\\xbcI\\x1e\\xb5\\xbca\\x0b2<\\xbe:\\x0c<fC\\x19=y\\xaf\\xaa\\xbc\\xa6\\xb7^;\\x8cA\\x1f\\xbc)pa\\xbd\\xef\\x92s=\\xb7\\xbc[<\\xcdR\\x0f<2\\x0e\\xca<-\\xe8\\x10=\\xcfo\\xaa<\\x03\\x02\\xd0\\xbb\\x97\\xc9\\x17\\xbd\\x86\\xd2\\x8e<\\xe6\\x7f\\xb3\\xbc\\xb6X\\xd8<\\x8db\\xc9\\xbb\\x87\\x1a`\\xbc\\x90\\xb4b=\\x02\\xcd\\xeb\\xbbl\\x0e\\x05=\\xbd\\x9f\\x83<<\\xc6\\x8f\\xbc:#a=\\xc8\\xd4Z=\\x04&\\x82\\xbd\\xe6\\x18\\xbd\\xbby\\xa0\\x1f\\xbd\\x85u\\x0b=\\xc7\\xe15<V\\xa8K=g1\\xa7<I\\xd29=\\xf6\\x8f\\x94<\\x86}B<\\xee\\x93\\xfb\\xbc\\xf5Yy\\xbc\\xe4\\xbf<=}\\x8b\\xac\\xbc\\xf26\\xac<\\xa2\\xd6l<,\\xb4\\x1a=\\xfeK\\xa1\\xbamQ\\xc8\\xbc\\x00\\xed\\xae<\\xdc\\x0eq\\xba\\x8f\\x1cm\\xbc\\xfbw\\xe0:\\x14\\xb3N\\xbb\\xbb\\x82\\x91<\\xc9w\\x9a<y\\x9c\\xb8\\xbc\\xe9\\x97D=\\xaeb\\x18\\xbd\\xf5a6=V\\xf9V;\\x90\\x8cV=\\\\\\xa6\\x85\\xbd\\xd6\\x0f\\x04<hU\\xb3<<\\xcd\\x96:\\xa6\\xf7\\xe5<\\xe6\\xb9\\x90<\\x8d\\xa3\\x84\\xbdnjg<\\x04\\x9c\\x00\\xbeRL\\x14\\xbc\\x04\\x82\\x85\\xbc\\xbc\\x1a\\x90\\xbdJ\\xbf\\xc9<r\\xdb\\xaa<3\\xb3\\xd5\\xbc\\x0f\\xe7\\x8d<M\\x98\\x01\\xbdV{;\\xbd\\xe7\\xc8\\x0c=AyU\\xbc\\xd8\\xf7\\x17;6q\\x0b\\xbd\\x07\\xf2o<\\xa6\\x80\\r\\xbd\\xc3-\\x10\\xbc\\xc4|_;\\xa8NG\\xbd\\xe6;\\x1c\\xbdW\\x1f\\xb0\\xbb\\x89\\x1b,<P\\xa8\\xe4\\xbc\\xe3\\xf5\\x80\\xbb\\x82j\\x1a\\xbce\\xcdS=G\\xa0?\\xbc\\xb6\\x89\\xc9<\\xf3\\x08w=(\\x122\\xbd\\x07\\x81\\x14=5\\xc7\\\\\\xbc\\xe7D8<\\xf3]\\\\<lC\\x8c\\xbc\\x8ea\\x82;\\x93N(\\xbd:\\xd5\\xe4<\\x8f\\x854<T\\xad\\x00=\\xd25\\xfe\\xbc\\xafd\\x8d\\xbb\\xd8r\\xb39\\xd0X\\xbe<\\xc5\\x16\\x0b\\xbc\\xcc\\x10\\xa6<;uy\\xbb\\x97(\\xc8<`\\xb7\\xaa\\xbc\\x9b\\xa4\\x04\\xbc\\xf7\\xa7;\\xbc m\\x11\\xbc\\xb9U\\x83;\\x9dG\\x9d<\\xb1\\xe8H\\xbd\\x8dM\\xa5\\xbaL4R;^\\x8d\\xab\\xbb.\\xdb\\x10=\\x0e\\xa4\\x0b\\xbd\\xed8\\xf6\\xbc;\\xa6o\\xbc\\x92\\x9e+<I`\\xc1=\\xcd\\x19\\xc8;\\x90\\x87\\x8a<\\x98\\x1b\\xc9;\\xa7f7=1\\xa4\\xcf<\\xe6\\xe4,=I\\x96\\xab<\\x00\\x8a\\xb1<\\x83\\xf6\\x03\\xbd\\xb5\\xfbx<\\x94\\x1c7\\xbd\\x18\\x03c\\xbc\\xda\\x08\\x07=\\x9d\\xbbu=\\xa3N\\x17<\\x06\\xb2\\x93:\\x10\\xc2\\xee\\xbc\\xad\\xe6 \\xbd,\\xfb\\xec<c\\xc7\\xfa<\\xb9\\x0e\\xf5\\xbb-\\xb4\\x0f=\\\\\\xbbm<\"S\\xa9=}<\\x1f\\xbc+;.\\xbcO\\xe1\\xaf\\xbb\\x84\\x17\\xb4<\\xf9\\x1d\\xf9;\\x1d \\x8c=\\xcbE\\x84<W\\xab):\\x8f.\\xf9<#\\xdau;\\x10\\xe9\\x18\\xbcev\\xcc<\\x89\\x9a!=_\\xa8\\x90\\xba\\xb5j[\\xbd\\x16\\x01?\\xbb'\n"
     ]
    }
   ],
   "source": [
    "print(query_vector)"
   ]
  },
  {
   "cell_type": "markdown",
   "metadata": {},
   "source": [
    "Query our HNSW index"
   ]
  },
  {
   "cell_type": "code",
   "execution_count": 401,
   "metadata": {},
   "outputs": [
    {
     "name": "stdout",
     "output_type": "stream",
     "text": [
      "Loading and Indexing + 868 tweets\n",
      "CPU times: total: 203 ms\n",
      "Wall time: 1.8 s\n"
     ]
    }
   ],
   "source": [
    "%%time\n",
    "KEYWORDS_EMBEDDING_FIELD='keyword_vector'\n",
    "TEXT_EMBEDDING_DIMENSION=784\n",
    "NUMBER_TWEETS=868\n",
    "\n",
    "print ('Loading and Indexing + ' +  str(NUMBER_TWEETS) + ' tweets')\n",
    "\n",
    "#flush all data\n",
    "redis_conn.flushall()\n",
    "\n",
    "#create flat index & load vectors\n",
    "create_hnsw_index(redis_conn, KEYWORDS_EMBEDDING_FIELD,NUMBER_TWEETS,TEXT_EMBEDDING_DIMENSION,'COSINE',M=40,EF=200)\n",
    "load_vectors(redis_conn,tweet_metadata,keywords_vectors,KEYWORDS_EMBEDDING_FIELD)"
   ]
  },
  {
   "cell_type": "code",
   "execution_count": 397,
   "metadata": {},
   "outputs": [],
   "source": [
    "\n",
    "topK=5\n",
    "tweet_query='rwandaiskilling'\n",
    "#product_query='cool way to pimp up my cell'\n",
    "\n",
    "#vectorize the query\n",
    "query_vector = model.encode(tweet_query).astype(np.float32).tobytes()\n",
    "\n",
    "#prepare the query\n",
    "q = Query(f'*=>[KNN {topK} @{KEYWORDS_EMBEDDING_FIELD} $vec_param AS vector_score]').sort_by('vector_score').paging(0,topK).return_fields('vector_score').dialect(2)\n",
    "params_dict = {\"vec_param\": query_vector}\n",
    "\n",
    "\n"
   ]
  },
  {
   "cell_type": "code",
   "execution_count": 398,
   "metadata": {},
   "outputs": [],
   "source": [
    "\n",
    "#Execute the query\n",
    "results = redis_conn.ft().search(q, query_params = params_dict)\n",
    "\n"
   ]
  },
  {
   "cell_type": "code",
   "execution_count": 399,
   "metadata": {},
   "outputs": [
    {
     "name": "stdout",
     "output_type": "stream",
     "text": [
      "Result{0 total, docs: []}\n"
     ]
    }
   ],
   "source": [
    "print(results)"
   ]
  },
  {
   "cell_type": "code",
   "execution_count": null,
   "metadata": {},
   "outputs": [],
   "source": [
    "#Print similar products found\n",
    "for tweet in results.docs:\n",
    "    print ('***************Product  found ************')\n",
    "    print (color.YELLOW + 'Score = ' +  color.END  + tweet.vector_score)"
   ]
  }
 ],
 "metadata": {
  "kernelspec": {
   "display_name": "Python 3",
   "language": "python",
   "name": "python3"
  },
  "language_info": {
   "codemirror_mode": {
    "name": "ipython",
    "version": 3
   },
   "file_extension": ".py",
   "mimetype": "text/x-python",
   "name": "python",
   "nbconvert_exporter": "python",
   "pygments_lexer": "ipython3",
   "version": "3.10.10"
  }
 },
 "nbformat": 4,
 "nbformat_minor": 2
}
